{
 "cells": [
  {
   "cell_type": "markdown",
   "metadata": {},
   "source": [
    "#Development notes"
   ]
  },
  {
   "cell_type": "markdown",
   "metadata": {},
   "source": [
    "Want to make 'superman' a bit more user friendly. this means stripping out ALL hardcoding and allowing switching on and off of advanced features like rotation"
   ]
  },
  {
   "cell_type": "code",
   "execution_count": 1,
   "metadata": {
    "collapsed": false
   },
   "outputs": [],
   "source": [
    "%load_ext autoreload\n",
    "%autoreload 1\n",
    "%aimport model3d\n",
    "m3d = model3d"
   ]
  },
  {
   "cell_type": "markdown",
   "metadata": {},
   "source": [
    "So what does the model actually need, what is unnecesary?"
   ]
  },
  {
   "cell_type": "code",
   "execution_count": 10,
   "metadata": {
    "collapsed": false
   },
   "outputs": [],
   "source": [
    "import os\n",
    "import pickle\n",
    "import numpy as np\n",
    "%matplotlib inline\n",
    "%config InlineBackend.figure_format = 'svg'\n",
    "import matplotlib.pyplot as plt\n",
    "\n",
    "sodium_d = [5889.950,5895.924]\n",
    "\n",
    "time = []\n",
    "\n",
    "wvl = [4000,6000,8000]\n",
    "spectra = [100,200,300]\n",
    "spectra_errors = [2,2,2]\n",
    "\n",
    "time = [54341.056842]*1000\n",
    "\n",
    "wvl = np.array(wvl)\n",
    "spectra = np.array(spectra)\n",
    "spectra_errors = np.array(spectra_errors)\n",
    "time = np.array(time)\n",
    "\n",
    "planet_K = 154\n",
    "sodium_d = [5889.950,5895.924]\n",
    "midtransit = 54341.056842\n",
    "period =  2.21857312\n",
    "planet_K = 154\n",
    "planet_K = 0\n",
    "star_K = 0.20196\n",
    "line_centers = sodium_d\n",
    "plotting = False\n",
    "nproc = 4\n",
    "best_fit=False\n",
    "save_star = False\n",
    "\n",
    "load = True\n",
    "save = True\n",
    "save_m1 = 'test1.p'\n",
    "save_m2 = 'test2.p'\n",
    "\n",
    "star_flux = np.array([1000,1000,1000])\n",
    "\n",
    "star_profile = {'wvl':wvl,'spectrum':star_flux}\n",
    "\n",
    "planet_absorb = np.array([1.0,1.0,1.0])\n",
    "\n",
    "spot_profile = np.array([500,1000,1000])/2.0\n",
    "\n",
    "spotlong, spotlat, spotsize, spotfilling_factor = 0, 45, 20, 0\n",
    "\n",
    "spotlong2, spotlat2, spotsize2, spotfilling_factor2 = 0, 90, 20, 1.0\n"
   ]
  },
  {
   "cell_type": "code",
   "execution_count": 11,
   "metadata": {
    "collapsed": true
   },
   "outputs": [],
   "source": [
    "x1 = [0.51374991, 0.18869174, 8.5049162065200008, -0.15442891679199999,  0.23553298503299999, 0.063145416345300007, -3.50757872893e+50, 111.002838225,spotlong,spotlat,spotsize,spotfilling_factor,spotlong2,spotlat2,spotsize2,spotfilling_factor2]"
   ]
  },
  {
   "cell_type": "code",
   "execution_count": null,
   "metadata": {
    "collapsed": false
   },
   "outputs": [],
   "source": [
    "full_model = m3d.model_3d(x1,time,period,planet_K,star_K,midtransit,wvl,line_centers,plotting,star_profile,planet_absorb,spot_profile=spot_profile,nproc=nproc,best_fit=best_fit,save_star=save_star,star_vsini=0)"
   ]
  },
  {
   "cell_type": "code",
   "execution_count": 9,
   "metadata": {
    "collapsed": false
   },
   "outputs": [
    {
     "name": "stdout",
     "output_type": "stream",
     "text": [
      "[[ 0.97062137  0.97176494  0.97176494]\n",
      " [ 0.97062137  0.97176494  0.97176494]\n",
      " [ 0.97062137  0.97176494  0.97176494]\n",
      " [ 0.97062137  0.97176494  0.97176494]\n",
      " [ 0.97062137  0.97176494  0.97176494]\n",
      " [ 0.97062137  0.97176494  0.97176494]\n",
      " [ 0.97062137  0.97176494  0.97176494]\n",
      " [ 0.97062137  0.97176494  0.97176494]\n",
      " [ 0.97062137  0.97176494  0.97176494]\n",
      " [ 0.97062137  0.97176494  0.97176494]\n",
      " [ 0.97062137  0.97176494  0.97176494]\n",
      " [ 0.97062137  0.97176494  0.97176494]\n",
      " [ 0.97062137  0.97176494  0.97176494]\n",
      " [ 0.97062137  0.97176494  0.97176494]\n",
      " [ 0.97062137  0.97176494  0.97176494]\n",
      " [ 0.97062137  0.97176494  0.97176494]\n",
      " [ 0.97062137  0.97176494  0.97176494]\n",
      " [ 0.97062137  0.97176494  0.97176494]\n",
      " [ 0.97062137  0.97176494  0.97176494]\n",
      " [ 0.97062137  0.97176494  0.97176494]\n",
      " [ 0.97062137  0.97176494  0.97176494]\n",
      " [ 0.97062137  0.97176494  0.97176494]\n",
      " [ 0.97062137  0.97176494  0.97176494]\n",
      " [ 0.97062137  0.97176494  0.97176494]\n",
      " [ 0.97062137  0.97176494  0.97176494]\n",
      " [ 0.97062137  0.97176494  0.97176494]\n",
      " [ 0.97062137  0.97176494  0.97176494]\n",
      " [ 0.97062137  0.97176494  0.97176494]\n",
      " [ 0.97062137  0.97176494  0.97176494]\n",
      " [ 0.97062137  0.97176494  0.97176494]\n",
      " [ 0.97062137  0.97176494  0.97176494]\n",
      " [ 0.97062137  0.97176494  0.97176494]\n",
      " [ 0.97062137  0.97176494  0.97176494]\n",
      " [ 0.97062137  0.97176494  0.97176494]\n",
      " [ 0.97062137  0.97176494  0.97176494]\n",
      " [ 0.97062137  0.97176494  0.97176494]\n",
      " [ 0.97062137  0.97176494  0.97176494]\n",
      " [ 0.97062137  0.97176494  0.97176494]\n",
      " [ 0.97062137  0.97176494  0.97176494]\n",
      " [ 0.97062137  0.97176494  0.97176494]\n",
      " [ 0.97062137  0.97176494  0.97176494]\n",
      " [ 0.97062137  0.97176494  0.97176494]\n",
      " [ 0.97062137  0.97176494  0.97176494]\n",
      " [ 0.97062137  0.97176494  0.97176494]\n",
      " [ 0.97062137  0.97176494  0.97176494]\n",
      " [ 0.97062137  0.97176494  0.97176494]\n",
      " [ 0.97062137  0.97176494  0.97176494]\n",
      " [ 0.97062137  0.97176494  0.97176494]\n",
      " [ 0.97062137  0.97176494  0.97176494]\n",
      " [ 0.97062137  0.97176494  0.97176494]\n",
      " [ 0.97062137  0.97176494  0.97176494]\n",
      " [ 0.97062137  0.97176494  0.97176494]\n",
      " [ 0.97062137  0.97176494  0.97176494]\n",
      " [ 0.97062137  0.97176494  0.97176494]\n",
      " [ 0.97062137  0.97176494  0.97176494]\n",
      " [ 0.97062137  0.97176494  0.97176494]\n",
      " [ 0.97062137  0.97176494  0.97176494]\n",
      " [ 0.97062137  0.97176494  0.97176494]\n",
      " [ 0.97062137  0.97176494  0.97176494]\n",
      " [ 0.97062137  0.97176494  0.97176494]\n",
      " [ 0.97062137  0.97176494  0.97176494]\n",
      " [ 0.97062137  0.97176494  0.97176494]\n",
      " [ 0.97062137  0.97176494  0.97176494]\n",
      " [ 0.97062137  0.97176494  0.97176494]\n",
      " [ 0.97062137  0.97176494  0.97176494]\n",
      " [ 0.97062137  0.97176494  0.97176494]\n",
      " [ 0.97062137  0.97176494  0.97176494]\n",
      " [ 0.97062137  0.97176494  0.97176494]\n",
      " [ 0.97062137  0.97176494  0.97176494]\n",
      " [ 0.97062137  0.97176494  0.97176494]\n",
      " [ 0.97062137  0.97176494  0.97176494]\n",
      " [ 0.97062137  0.97176494  0.97176494]\n",
      " [ 0.97062137  0.97176494  0.97176494]\n",
      " [ 0.97062137  0.97176494  0.97176494]\n",
      " [ 0.97062137  0.97176494  0.97176494]\n",
      " [ 0.97062137  0.97176494  0.97176494]\n",
      " [ 0.97062137  0.97176494  0.97176494]\n",
      " [ 0.97062137  0.97176494  0.97176494]\n",
      " [ 0.97062137  0.97176494  0.97176494]\n",
      " [ 0.97062137  0.97176494  0.97176494]\n",
      " [ 0.97062137  0.97176494  0.97176494]\n",
      " [ 0.97062137  0.97176494  0.97176494]\n",
      " [ 0.97062137  0.97176494  0.97176494]\n",
      " [ 0.97062137  0.97176494  0.97176494]\n",
      " [ 0.97062137  0.97176494  0.97176494]\n",
      " [ 0.97062137  0.97176494  0.97176494]\n",
      " [ 0.97062137  0.97176494  0.97176494]\n",
      " [ 0.97062137  0.97176494  0.97176494]\n",
      " [ 0.97062137  0.97176494  0.97176494]\n",
      " [ 0.97062137  0.97176494  0.97176494]\n",
      " [ 0.97062137  0.97176494  0.97176494]\n",
      " [ 0.97062137  0.97176494  0.97176494]\n",
      " [ 0.97062137  0.97176494  0.97176494]\n",
      " [ 0.97062137  0.97176494  0.97176494]\n",
      " [ 0.97062137  0.97176494  0.97176494]\n",
      " [ 0.97062137  0.97176494  0.97176494]\n",
      " [ 0.97062137  0.97176494  0.97176494]\n",
      " [ 0.97062137  0.97176494  0.97176494]\n",
      " [ 0.97062137  0.97176494  0.97176494]\n",
      " [ 0.97062137  0.97176494  0.97176494]]\n"
     ]
    }
   ],
   "source": [
    "print full_model"
   ]
  },
  {
   "cell_type": "markdown",
   "metadata": {},
   "source": [
    "[ 0.97062137  0.97176494  0.97176494]"
   ]
  },
  {
   "cell_type": "markdown",
   "metadata": {
    "collapsed": true
   },
   "source": [
    "WARNING!!! Initial tests show that our redshifting program produces unreliable results for low binsizes. this does of course make sense, sinse it needs many bins to interpolate and I only give it 3. add a condition that it doesn't try to do this if velocity is set to 0"
   ]
  }
 ],
 "metadata": {
  "kernelspec": {
   "display_name": "Python 2",
   "language": "python",
   "name": "python2"
  },
  "language_info": {
   "codemirror_mode": {
    "name": "ipython",
    "version": 2
   },
   "file_extension": ".py",
   "mimetype": "text/x-python",
   "name": "python",
   "nbconvert_exporter": "python",
   "pygments_lexer": "ipython2",
   "version": "2.7.10"
  }
 },
 "nbformat": 4,
 "nbformat_minor": 0
}
