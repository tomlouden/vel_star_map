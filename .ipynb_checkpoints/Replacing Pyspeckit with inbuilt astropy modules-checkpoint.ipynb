{
 "cells": [
  {
   "cell_type": "markdown",
   "metadata": {},
   "source": [
    "I'm sick of using pyspeckit, it doesnt seem particularly well written, and it's unnecesarily complicated, and it doesn't seem to play well with my python3 install\n",
    "\n",
    "can I replace it with astropy functions?"
   ]
  },
  {
   "cell_type": "code",
   "execution_count": 16,
   "metadata": {
    "collapsed": false
   },
   "outputs": [],
   "source": [
    "from astropy.modeling import models\n",
    "\n",
    "from pyspeckit.spectrum.models.inherited_voigtfitter import voigt\n",
    "\n",
    "import numpy as np\n",
    "\n",
    "%matplotlib inline\n",
    "import matplotlib.pyplot as plt\n"
   ]
  },
  {
   "cell_type": "code",
   "execution_count": 22,
   "metadata": {
    "collapsed": false
   },
   "outputs": [],
   "source": [
    "v = am.Voigt1D"
   ]
  },
  {
   "cell_type": "code",
   "execution_count": 38,
   "metadata": {
    "collapsed": false
   },
   "outputs": [
    {
     "name": "stdout",
     "output_type": "stream",
     "text": [
      "<class 'astropy.modeling.functional_models.Voigt1D'>\n",
      "Name: Voigt1D\n",
      "Inputs: (u'x',)\n",
      "Outputs: (u'y',)\n",
      "Fittable parameters: ('x_0', 'amplitude_L', 'fwhm_L', 'fwhm_G')\n"
     ]
    }
   ],
   "source": [
    "print(v)"
   ]
  },
  {
   "cell_type": "code",
   "execution_count": 26,
   "metadata": {
    "collapsed": false
   },
   "outputs": [],
   "source": [
    "master_dat = np.loadtxt('sodium_spectrum.dat')\n",
    "wvl = master_dat[:,0]\n",
    "wvl = np.array(wvl)"
   ]
  },
  {
   "cell_type": "code",
   "execution_count": 14,
   "metadata": {
    "collapsed": true
   },
   "outputs": [],
   "source": [
    "x = [10, 5888, 10, 1]"
   ]
  },
  {
   "cell_type": "code",
   "execution_count": null,
   "metadata": {
    "collapsed": true
   },
   "outputs": [],
   "source": [
    "amp = x[0]\n",
    "line_cen = x[1]\n",
    "fwhm = 0.4*abs(x[2])\n",
    "ratio = abs(x[3])\n",
    "\n",
    "Lfwhm = fwhm / (0.5346 + (0.2166 + (ratio**-2))**0.5)\n",
    "Gfwhm = fwhm / (0.5346*ratio + (0.2166*ratio**2.0 + 1)**0.5)"
   ]
  },
  {
   "cell_type": "code",
   "execution_count": 20,
   "metadata": {
    "collapsed": false
   },
   "outputs": [],
   "source": [
    "line = voigt(wvl,amp,line_cen,Gfwhm,Lfwhm,normalized=False)\n",
    "\n",
    "ps_line = amp*line/max(line)"
   ]
  },
  {
   "cell_type": "code",
   "execution_count": 37,
   "metadata": {
    "collapsed": false
   },
   "outputs": [],
   "source": [
    "v.x_0 = line_cen\n",
    "\n",
    "v.amplitude_L = amp\n",
    "\n",
    "v.fwhm_L = Lfwhm\n",
    "\n",
    "v.fwhm_G = Gfwhm\n",
    "\n",
    "v.fwhm_G\n",
    "\n",
    "ap_line = amp*line/max(line)"
   ]
  },
  {
   "cell_type": "code",
   "execution_count": 21,
   "metadata": {
    "collapsed": false
   },
   "outputs": [
    {
     "data": {
      "image/png": "[encoded data removed]",
      "text/plain": [
       "<matplotlib.figure.Figure at 0x7f7550d397d0>"
      ]
     },
     "metadata": {},
     "output_type": "display_data"
    }
   ],
   "source": [
    "plt.plot(wvl,ps_line)\n",
    "plt.plot(wvl,ap_line)\n",
    "plt.show()"
   ]
  },
  {
   "cell_type": "code",
   "execution_count": null,
   "metadata": {
    "collapsed": true
   },
   "outputs": [],
   "source": []
  }
 ],
 "metadata": {
  "kernelspec": {
   "display_name": "Python 2",
   "language": "python",
   "name": "python2"
  },
  "language_info": {
   "codemirror_mode": {
    "name": "ipython",
    "version": 2
   },
   "file_extension": ".py",
   "mimetype": "text/x-python",
   "name": "python",
   "nbconvert_exporter": "python",
   "pygments_lexer": "ipython2",
   "version": "2.7.10"
  }
 },
 "nbformat": 4,
 "nbformat_minor": 0
}
