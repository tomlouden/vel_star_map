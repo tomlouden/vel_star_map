{
 "cells": [
  {
   "cell_type": "markdown",
   "metadata": {},
   "source": [
    "#Development notes"
   ]
  },
  {
   "cell_type": "markdown",
   "metadata": {},
   "source": [
    "Want to make 'superman' a bit more user friendly. this means stripping out ALL hardcoding and allowing switching on and off of advanced features like rotation"
   ]
  },
  {
   "cell_type": "code",
   "execution_count": 10,
   "metadata": {
    "collapsed": false
   },
   "outputs": [
    {
     "name": "stdout",
     "output_type": "stream",
     "text": [
      "The autoreload extension is already loaded. To reload it, use:\n",
      "  %reload_ext autoreload\n"
     ]
    }
   ],
   "source": [
    "%load_ext autoreload\n",
    "%autoreload 1\n",
    "%aimport model3d\n",
    "%aimport vel_prism\n",
    "\n",
    "m3d = model3d\n",
    "vp = vel_prism\n"
   ]
  },
  {
   "cell_type": "markdown",
   "metadata": {},
   "source": [
    "So what does the model actually need, what is unnecesary?"
   ]
  },
  {
   "cell_type": "code",
   "execution_count": 11,
   "metadata": {
    "collapsed": false
   },
   "outputs": [],
   "source": [
    "import os\n",
    "import pickle\n",
    "import numpy as np\n",
    "%matplotlib inline\n",
    "%config InlineBackend.figure_format = 'svg'\n",
    "import matplotlib.pyplot as plt\n",
    "\n",
    "time = []\n",
    "\n",
    "wvl = [4000,6000,8000]\n",
    "spectra = [100,200,300]\n",
    "spectra_errors = [2,2,2]\n",
    "\n",
    "time = [54341.056842]*10\n",
    "\n",
    "wvl = np.array(wvl)\n",
    "spectra = np.array(spectra)\n",
    "spectra_errors = np.array(spectra_errors)\n",
    "time = np.array(time)\n",
    "\n",
    "sodium_d = [5889.950,5895.924]\n",
    "midtransit = 54341.056842\n",
    "period =  2.21857312\n",
    "planet_K = 154\n",
    "planet_K = 0\n",
    "star_K = 0.20196\n",
    "line_centers = sodium_d\n",
    "plotting = True\n",
    "nproc = 4\n",
    "save_star = False\n",
    "\n",
    "star_flux = np.array([1000,1000,1000])\n",
    "\n",
    "star_profile = {'wvl':wvl,'spectrum':star_flux}\n",
    "\n",
    "planet_absorb = np.array([1.0,1.0,1.0])\n",
    "\n",
    "spot_profile = np.array([500,1000,1000])/2.0\n",
    "\n",
    "spotlong, spotlat, spotsize, spotfilling_factor = 0, 45, 20, 1.0\n",
    "\n",
    "spotlong2, spotlat2, spotsize2, spotfilling_factor2 = 0, 90, 20, 0.1\n"
   ]
  },
  {
   "cell_type": "code",
   "execution_count": 12,
   "metadata": {
    "collapsed": true
   },
   "outputs": [],
   "source": [
    "x1 = [0.51374991, 0.18869174, 8.5049162065200008, -0.15442891679199999,  0.23553298503299999, 0.063145416345300007, -3.50757872893e+50, 111.002838225,spotlong,spotlat,spotsize,spotfilling_factor,spotlong2,spotlat2,spotsize2,spotfilling_factor2]"
   ]
  },
  {
   "cell_type": "code",
   "execution_count": 13,
   "metadata": {
    "collapsed": false
   },
   "outputs": [],
   "source": [
    "spotlong = []\n",
    "spotlat = []\n",
    "spotsize = []\n",
    "spotfill = []\n",
    "for i in range(0,len(x1[8:])/4):\n",
    "    spotlong +=[x1[i*4 + 8]]\n",
    "    spotlat +=[x1[i*4 + 9]]\n",
    "    spotsize +=[x1[i*4 + 10]]\n",
    "    spotfill +=[x1[i*4 + 11]]\n"
   ]
  },
  {
   "cell_type": "code",
   "execution_count": 18,
   "metadata": {
    "collapsed": false
   },
   "outputs": [],
   "source": [
    "p0 = 0.1572\n",
    "system_scale = 1.0/8.92\n",
    "gamma_0 = x1[0]\n",
    "gamma_1 = x1[1]\n",
    "inc = 85.68\n",
    "east_offset = x1[2]*0\n",
    "west_offset = x1[3]*0\n",
    "atm_radius = x1[4]\n",
    "star_vsini = 0\n",
    "load_star = False\n",
    "location= 'full'\n",
    "absolute = 'false'\n",
    "\n",
    "input = [p0,system_scale,gamma_0,gamma_1,inc,star_vsini,planet_K,star_K,midtransit,period,east_offset,west_offset,atm_radius]\n",
    "data_x = (time-midtransit)/period\n",
    "spot_data = True\n",
    "\n",
    "full_model = vp.vel_prism(data_x, input, star_profile, time,planet_absorb,spot_data=spot_data, type_data='FLUX',plotting=plotting,nproc=nproc,save_star=save_star,load_star=load_star,location=location,absolute=absolute,spot_profile=spot_profile,spotlong=spotlong,spotlat=spotlat,spotsize=spotsize,spotfill=spotfill)"
   ]
  },
  {
   "cell_type": "markdown",
   "metadata": {},
   "source": [
    "[ 0.99291626  0.98620795  0.98620795]"
   ]
  },
  {
   "cell_type": "code",
   "execution_count": 19,
   "metadata": {
    "collapsed": false
   },
   "outputs": [
    {
     "name": "stdout",
     "output_type": "stream",
     "text": [
      "[[ 0.99291626  0.98620795  0.98620795]\n",
      " [ 0.99291626  0.98620795  0.98620795]\n",
      " [ 0.99291626  0.98620795  0.98620795]\n",
      " [ 0.99291626  0.98620795  0.98620795]\n",
      " [ 0.99291626  0.98620795  0.98620795]\n",
      " [ 0.99291626  0.98620795  0.98620795]\n",
      " [ 0.99291626  0.98620795  0.98620795]\n",
      " [ 0.99291626  0.98620795  0.98620795]\n",
      " [ 0.99291626  0.98620795  0.98620795]\n",
      " [ 0.99291626  0.98620795  0.98620795]]\n"
     ]
    }
   ],
   "source": [
    "print full_model"
   ]
  },
  {
   "cell_type": "markdown",
   "metadata": {
    "collapsed": true
   },
   "source": [
    "WARNING!!! Initial tests show that our redshifting program produces unreliable results for low binsizes. this does of course make sense, sinse it needs many bins to interpolate and I only give it 3. add a condition that it doesn't try to do this if velocity is set to 0"
   ]
  }
 ],
 "metadata": {
  "kernelspec": {
   "display_name": "Python 2",
   "language": "python",
   "name": "python2"
  },
  "language_info": {
   "codemirror_mode": {
    "name": "ipython",
    "version": 2
   },
   "file_extension": ".py",
   "mimetype": "text/x-python",
   "name": "python",
   "nbconvert_exporter": "python",
   "pygments_lexer": "ipython2",
   "version": "2.7.10"
  }
 },
 "nbformat": 4,
 "nbformat_minor": 0
}
