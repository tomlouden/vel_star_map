{
 "cells": [
  {
   "cell_type": "markdown",
   "metadata": {},
   "source": [
    "# Finding new plot"
   ]
  },
  {
   "cell_type": "markdown",
   "metadata": {},
   "source": [
    "Pete wants an additional plot for the paper. Want to demonstrate the line profile we get from the model."
   ]
  },
  {
   "cell_type": "markdown",
   "metadata": {},
   "source": [
    "Let's try running a simple script in here"
   ]
  },
  {
   "cell_type": "code",
   "execution_count": 25,
   "metadata": {
    "collapsed": false
   },
   "outputs": [
    {
     "name": "stdout",
     "output_type": "stream",
     "text": [
      "The autoreload extension is already loaded. To reload it, use:\n",
      "  %reload_ext autoreload\n",
      "Populating the interactive namespace from numpy and matplotlib\n"
     ]
    }
   ],
   "source": [
    "%load_ext autoreload\n",
    "%autoreload 1\n",
    "%aimport two_sides_figure\n",
    "%aimport elements_model3d\n",
    "%pylab inline\n",
    "\n",
    "pf = two_sides_figure\n",
    "m3d = model3d\n",
    "\n",
    "import os\n",
    "import pickle\n",
    "import numpy as np\n",
    "import matplotlib.pyplot as plt\n",
    "\n"
   ]
  },
  {
   "cell_type": "markdown",
   "metadata": {},
   "source": [
    "This is the current best fit model for fixed limb darkening"
   ]
  },
  {
   "cell_type": "code",
   "execution_count": 26,
   "metadata": {
    "collapsed": true
   },
   "outputs": [],
   "source": [
    "x1 = [0.51374991, 0.18869174, 8.5049162065200008, -0.15442891679199999,  0.23553298503299999, 0.063145416345300007, -3.50757872893e+50, 111.002838225]"
   ]
  },
  {
   "cell_type": "code",
   "execution_count": 27,
   "metadata": {
    "collapsed": false
   },
   "outputs": [],
   "source": [
    "dir = 'everything/'\n",
    "files = os.listdir(dir)\n",
    "\n",
    "sodium_d = [5889.950,5895.924]\n",
    "\n",
    "time = []\n",
    "wvl = []\n",
    "spectra = []\n",
    "spectra_errors = []\n",
    "spectra2 = []\n",
    "spectra_errors2 = []\n",
    "\n",
    "min_wvl = 5869\n",
    "max_wvl = 5909\n",
    "\n",
    "for f in files:\n",
    "  time += [float(f[:-3])]\n",
    "  data = pickle.load(open(dir+f,'rb'))\n",
    "  index = [(data['wvl'] > min_wvl) & (data['wvl'] < max_wvl)]\n",
    "\n",
    "  wvl += [data['wvl'][index]]\n",
    "  spectra += [data['spec'][index]]\n",
    "  spectra_errors += [data['spec_error'][index]]\n",
    "\n",
    "wvl = wvl[0]\n",
    "time = np.array(time)\n",
    "spectra = np.array(spectra)\n",
    "spectra_errors = np.array(spectra_errors)\n",
    "\n",
    "planet_K = 154\n",
    "sodium_d = [5889.950,5895.924]\n",
    "midtransit = 54341.056842\n",
    "period =  2.21857312\n",
    "planet_K = 154\n",
    "star_K = 0.20196\n",
    "line_centers = sodium_d\n",
    "plotting = False\n",
    "nproc = 16\n",
    "best_fit=False\n",
    "save_star = False\n",
    "\n",
    "i1 = 9\n",
    "i2 = 29\n",
    "\n",
    "\n",
    "spectra = spectra[np.argsort(time)]\n",
    "spectra = spectra[np.arange(i1,i2)]\n",
    "\n",
    "spectra_errors = spectra_errors[np.argsort(time)]\n",
    "spectra_errors = spectra_errors[np.arange(i1,i2)]\n",
    "\n",
    "time = time[np.argsort(time)]\n",
    "time = time[np.arange(i1,i2)]\n",
    "\n",
    "new_errors = np.array([np.std(spectra, axis=0)]*20)\n",
    "\n",
    "spectra_errors = new_errors\n",
    "\n",
    "load = True\n",
    "save = True\n",
    "save_m1 = 'model1.p'\n",
    "save_m2 = 'model2.p'"
   ]
  },
  {
   "cell_type": "code",
   "execution_count": 28,
   "metadata": {
    "collapsed": false
   },
   "outputs": [
    {
     "name": "stdout",
     "output_type": "stream",
     "text": [
      "4.32967256166 4.17524364486\n",
      "4.32967256166 4.17524364486\n",
      "4.32967256166 4.17524364486\n",
      "4.32967256166 4.17524364486\n",
      "4.32967256166 4.17524364486\n",
      "4.32967256166 4.17524364486\n",
      "4.32967256166 4.17524364486\n",
      "4.32967256166 4.17524364486\n",
      "4.32967256166 4.17524364486\n",
      "4.32967256166 4.17524364486\n",
      "4.32967256166 4.17524364486\n",
      "4.32967256166 4.17524364486\n",
      "4.32967256166 4.17524364486\n",
      "4.32967256166 4.17524364486\n",
      "4.32967256166 4.17524364486\n",
      "4.32967256166 4.17524364486\n",
      "4.329672561664.329672561664.329672561664.32967256166 4.17524364486\n",
      " 4.17524364486\n",
      " 4.17524364486\n",
      " 4.17524364486\n"
     ]
    }
   ],
   "source": [
    "model1 = m3d.model_3d(x1,time,period,planet_K,star_K,midtransit,wvl,line_centers,plotting,nproc=nproc,best_fit=best_fit,save_star=save_star,star_vsini=3.1)"
   ]
  },
  {
   "cell_type": "code",
   "execution_count": 24,
   "metadata": {
    "collapsed": false
   },
   "outputs": [
    {
     "data": {
      "image/png": "[encoded data removed]",
      "text/plain": [
       "<matplotlib.figure.Figure at 0x7f310a02ed50>"
      ]
     },
     "metadata": {},
     "output_type": "display_data"
    }
   ],
   "source": [
    "plt.plot(wvl[(wvl > 5888) & (wvl < 5892)],model1[9][(wvl > 5888) & (wvl < 5892)])\n",
    "ylim(0.90,1.05)\n",
    "show()"
   ]
  },
  {
   "cell_type": "code",
   "execution_count": 34,
   "metadata": {
    "collapsed": false
   },
   "outputs": [],
   "source": []
  },
  {
   "cell_type": "code",
   "execution_count": null,
   "metadata": {
    "collapsed": false
   },
   "outputs": [],
   "source": []
  },
  {
   "cell_type": "code",
   "execution_count": null,
   "metadata": {
    "collapsed": true
   },
   "outputs": [],
   "source": []
  }
 ],
 "metadata": {
  "kernelspec": {
   "display_name": "Python 2",
   "language": "python",
   "name": "python2"
  },
  "language_info": {
   "codemirror_mode": {
    "name": "ipython",
    "version": 2
   },
   "file_extension": ".py",
   "mimetype": "text/x-python",
   "name": "python",
   "nbconvert_exporter": "python",
   "pygments_lexer": "ipython2",
   "version": "2.7.10"
  }
 },
 "nbformat": 4,
 "nbformat_minor": 0
}
