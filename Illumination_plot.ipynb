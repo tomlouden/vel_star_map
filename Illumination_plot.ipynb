{
 "cells": [
  {
   "cell_type": "markdown",
   "metadata": {},
   "source": [
    "#Plot of illumination as a funtion of transit time"
   ]
  },
  {
   "cell_type": "markdown",
   "metadata": {},
   "source": [
    "Discussing improvements to the paper with Pete\n",
    "\n",
    "* \"Absolute flux\" version of the 4 panel plot to highlight the impact of moving through the stellar line profile\n",
    "* Literature review again - check exactly what it was the Geneva paper (and others) say about the depth of the line profile in relation to atmosphere planetary depth\n",
    "* New \"plot 1\" possibly including the transit schematic. How does the illumination of the planet change as a function of time. Also split by hemisphere."
   ]
  },
  {
   "cell_type": "markdown",
   "metadata": {},
   "source": [
    "# Setup"
   ]
  },
  {
   "cell_type": "code",
   "execution_count": 1,
   "metadata": {
    "collapsed": false
   },
   "outputs": [
    {
     "name": "stderr",
     "output_type": "stream",
     "text": [
      "/home/toml/Python/pysynphot/locations.py:14: UserWarning: PYSYN_CDBS is undefined; functionality will be SEVERELY crippled.\n",
      "  warnings.warn(\"PYSYN_CDBS is undefined; functionality will be SEVERELY \"\n",
      "/home/toml/Python/pysynphot/locations.py:74: UserWarning: Extinction files should be moved to $PYSYN_CDBS/extinction for compatibility with future versions of pysynphot.\n",
      "  warnings.warn('Extinction files should be moved to '\n",
      "/home/toml/Python/pysynphot/locations.py:110: UserWarning: Extinction files not found in grid/extinction\n",
      "  warnings.warn('Extinction files not found in %s' % (extdir,))\n",
      "/home/toml/Python/pysynphot/locations.py:88: UserWarning: PYSYN_CDBS is undefined; cannot find mtab/*_tmg.fits file\n",
      "  warnings.warn(\"PYSYN_CDBS is undefined; cannot find %s file\" % template)\n",
      "/home/toml/Python/pysynphot/locations.py:88: UserWarning: PYSYN_CDBS is undefined; cannot find mtab/*_tmc.fits file\n",
      "  warnings.warn(\"PYSYN_CDBS is undefined; cannot find %s file\" % template)\n",
      "/home/toml/Python/pysynphot/locations.py:88: UserWarning: PYSYN_CDBS is undefined; cannot find mtab/*_tmt.fits file\n",
      "  warnings.warn(\"PYSYN_CDBS is undefined; cannot find %s file\" % template)\n"
     ]
    }
   ],
   "source": [
    "%load_ext autoreload\n",
    "%autoreload 1\n",
    "%aimport two_sides_figure\n",
    "%aimport elements_model3d\n",
    "%aimport model3d\n",
    "\n",
    "pf = two_sides_figure\n",
    "m3d = elements_model3d\n",
    "old_m3d = model3d\n",
    "\n",
    "\n",
    "import os\n",
    "import pickle\n",
    "import numpy as np\n",
    "%matplotlib inline\n",
    "%config InlineBackend.figure_format = 'svg'\n",
    "import matplotlib.pyplot as plt\n",
    "\n",
    "\n",
    "dir = 'everything/'\n",
    "files = os.listdir(dir)\n",
    "\n",
    "sodium_d = [5889.950,5895.924]\n",
    "\n",
    "time = []\n",
    "wvl = []\n",
    "spectra = []\n",
    "spectra_errors = []\n",
    "spectra2 = []\n",
    "spectra_errors2 = []\n",
    "\n",
    "min_wvl = 5869\n",
    "max_wvl = 5909\n",
    "\n",
    "for f in files:\n",
    "  time += [float(f[:-3])]\n",
    "  data = pickle.load(open(dir+f,'rb'))\n",
    "  index = [(data['wvl'] > min_wvl) & (data['wvl'] < max_wvl)]\n",
    "\n",
    "  wvl += [data['wvl'][index]]\n",
    "  spectra += [data['spec'][index]]\n",
    "  spectra_errors += [data['spec_error'][index]]\n",
    "\n",
    "wvl = wvl[0]\n",
    "time = np.array(time)\n",
    "spectra = np.array(spectra)\n",
    "spectra_errors = np.array(spectra_errors)\n",
    "\n",
    "planet_K = 154\n",
    "sodium_d = [5889.950,5895.924]\n",
    "midtransit = 54341.056842\n",
    "period =  2.21857312\n",
    "planet_K = 154\n",
    "star_K = 0.20196\n",
    "line_centers = sodium_d\n",
    "plotting = False\n",
    "nproc = 24\n",
    "best_fit=False\n",
    "save_star = False\n",
    "\n",
    "i1 = 9\n",
    "i2 = 29\n",
    "\n",
    "\n",
    "spectra = spectra[np.argsort(time)]\n",
    "spectra = spectra[np.arange(i1,i2)]\n",
    "\n",
    "spectra_errors = spectra_errors[np.argsort(time)]\n",
    "spectra_errors = spectra_errors[np.arange(i1,i2)]\n",
    "\n",
    "time = time[np.argsort(time)]\n",
    "time = time[np.arange(i1,i2)]\n",
    "\n",
    "new_errors = np.array([np.std(spectra, axis=0)]*20)\n",
    "\n",
    "spectra_errors = new_errors\n",
    "\n",
    "load = True\n",
    "save = True\n",
    "save_m1 = 'test1.p'\n",
    "save_m2 = 'test2.p'"
   ]
  },
  {
   "cell_type": "code",
   "execution_count": 2,
   "metadata": {
    "collapsed": true
   },
   "outputs": [],
   "source": [
    "x1 = [0.51374991, 0.18869174, 8.5049162065200008, -0.15442891679199999,  0.23553298503299999, 0.063145416345300007, -3.50757872893e+50, 111.002838225]"
   ]
  },
  {
   "cell_type": "code",
   "execution_count": 3,
   "metadata": {
    "collapsed": true
   },
   "outputs": [],
   "source": [
    "full_model = old_m3d.model_3d(x1,time,period,planet_K,star_K,midtransit,wvl,line_centers,plotting,nproc=nproc,best_fit=best_fit,save_star=save_star,star_vsini=3.1)"
   ]
  },
  {
   "cell_type": "code",
   "execution_count": 4,
   "metadata": {
    "collapsed": true
   },
   "outputs": [],
   "source": [
    "import astropy.constants as const\n",
    "\n",
    "c = const.c.value/1000\n",
    "\n",
    "star_vel = -2.3\n",
    "\n",
    "delta_wvl = wvl\n",
    "star_sodium1 = sodium_d[0]\n",
    "\n",
    "star_sodium1 += star_vel*sodium_d[0]/c\n",
    "\n",
    "delta_wvl = wvl - star_sodium1\n",
    "\n",
    "v = c*delta_wvl/wvl\n",
    "\n",
    "star_sodium2 = sodium_d[1]\n",
    "\n",
    "star_sodium2 += star_vel*sodium_d[1]/c\n",
    "\n",
    "delta_wvl2 = wvl - star_sodium2\n",
    "\n",
    "v2 = c*delta_wvl2/wvl\n",
    "master_dat = np.loadtxt('sodium_spectrum.dat')\n",
    "master_wvl = master_dat[:,0]\n",
    "master_flux = master_dat[:,1]\n",
    "\n",
    "master_flux = master_flux/np.median(master_flux)\n",
    "\n",
    "delta_wvlm = master_wvl - star_sodium1\n",
    "vm = c*delta_wvlm/master_wvl\n",
    "\n",
    "delta_wvlm2 = master_wvl - star_sodium2\n",
    "vm2 = c*delta_wvlm2/master_wvl"
   ]
  },
  {
   "cell_type": "code",
   "execution_count": 5,
   "metadata": {
    "collapsed": false
   },
   "outputs": [],
   "source": [
    "master_dat = np.loadtxt('sodium_spectrum.dat')\n",
    "master_wvl = master_dat[:,0]\n",
    "master_flux = master_dat[:,1]\n",
    "\n",
    "master_flux = master_flux/np.median(master_flux)\n",
    "\n",
    "delta_wvlm = master_wvl - star_sodium1\n",
    "vm = c*delta_wvlm/master_wvl\n",
    "\n",
    "delta_wvlm2 = master_wvl - star_sodium2\n",
    "vm2 = c*delta_wvlm2/master_wvl"
   ]
  },
  {
   "cell_type": "code",
   "execution_count": 6,
   "metadata": {
    "collapsed": true
   },
   "outputs": [],
   "source": [
    "midtransit = 54341.056842\n",
    "period =  2.21857312\n",
    "planet_K = 154\n",
    "\n",
    "vel_model = -1*1000*planet_K*np.sin(2.0*np.pi*(midtransit-time)/period)\n"
   ]
  },
  {
   "cell_type": "code",
   "execution_count": 7,
   "metadata": {
    "collapsed": false
   },
   "outputs": [],
   "source": [
    "from spec_manip import align_spectra\n",
    "from plot_spectrum import bin_curve\n",
    "\n",
    "scale = np.sqrt(3.0)\n",
    "resamp_factor = 10\n",
    "\n",
    "alligned = align_spectra(wvl,spectra.copy(),vel_model)\n",
    "\n",
    "bin_wvl, bin_alligned, bin_alligned_error = bin_curve(wvl,np.median(alligned,axis=0),scale*np.std(alligned,axis=0)/np.sqrt(len(spectra)),resamp_factor)\n",
    "\n",
    "alligned_model = align_spectra(wvl,full_model.copy(),vel_model)\n",
    "\n",
    "alligned_profile = np.mean(alligned_model,axis=0)\n"
   ]
  },
  {
   "cell_type": "code",
   "execution_count": 8,
   "metadata": {
    "collapsed": false
   },
   "outputs": [],
   "source": [
    "star_sodium = sodium_d[0]\n",
    "star_sodium += star_vel*sodium_d[0]/c\n",
    "delta_wvl = bin_wvl - star_sodium\n",
    "\n",
    "bin_v = c*delta_wvl/bin_wvl\n",
    "\n",
    "star_sodium2 = sodium_d[1]\n",
    "star_sodium2 += star_vel*sodium_d[1]/c\n",
    "delta_wvl2 = bin_wvl - star_sodium2\n",
    "\n",
    "bin_v2 = c*delta_wvl2/bin_wvl"
   ]
  },
  {
   "cell_type": "markdown",
   "metadata": {},
   "source": [
    "#Illumination plot"
   ]
  },
  {
   "cell_type": "markdown",
   "metadata": {},
   "source": [
    "How exactly do we want this done? It's the illumination at the wavelength corresponding to *Zero velocity for the planet* at each stage. Will have to interact with elements_vel_prism for this."
   ]
  },
  {
   "cell_type": "markdown",
   "metadata": {},
   "source": [
    "Perhaps make a new function instead of hacking together some old stuff? don't actually need to do the transit at each stage after all, only care about the star illumination and vel model."
   ]
  },
  {
   "cell_type": "code",
   "execution_count": 9,
   "metadata": {
    "collapsed": false
   },
   "outputs": [
    {
     "name": "stdout",
     "output_type": "stream",
     "text": [
      "helloooooo2\n"
     ]
    },
    {
     "ename": "NameError",
     "evalue": "global name 'output' is not defined",
     "output_type": "error",
     "traceback": [
      "\u001b[1;31m---------------------------------------------------------------------------\u001b[0m",
      "\u001b[1;31mNameError\u001b[0m                                 Traceback (most recent call last)",
      "\u001b[1;32m<ipython-input-9-e53f3f58f4b5>\u001b[0m in \u001b[0;36m<module>\u001b[1;34m()\u001b[0m\n\u001b[0;32m      1\u001b[0m \u001b[0mstar_vsini\u001b[0m\u001b[1;33m=\u001b[0m\u001b[1;36m3.1\u001b[0m\u001b[1;33m\u001b[0m\u001b[0m\n\u001b[0;32m      2\u001b[0m \u001b[0mabsolute\u001b[0m \u001b[1;33m=\u001b[0m \u001b[0mFalse\u001b[0m\u001b[1;33m\u001b[0m\u001b[0m\n\u001b[1;32m----> 3\u001b[1;33m \u001b[0mnew_model_noRM\u001b[0m \u001b[1;33m=\u001b[0m \u001b[0mm3d\u001b[0m\u001b[1;33m.\u001b[0m\u001b[0millumination_model\u001b[0m\u001b[1;33m(\u001b[0m\u001b[0mx1\u001b[0m\u001b[1;33m,\u001b[0m\u001b[0mtime\u001b[0m\u001b[1;33m,\u001b[0m\u001b[0mperiod\u001b[0m\u001b[1;33m,\u001b[0m\u001b[0mplanet_K\u001b[0m\u001b[1;33m,\u001b[0m\u001b[0mstar_K\u001b[0m\u001b[1;33m,\u001b[0m\u001b[0mmidtransit\u001b[0m\u001b[1;33m,\u001b[0m\u001b[0mwvl\u001b[0m\u001b[1;33m,\u001b[0m\u001b[0mline_centers\u001b[0m\u001b[1;33m,\u001b[0m\u001b[0mplotting\u001b[0m\u001b[1;33m,\u001b[0m\u001b[0mnproc\u001b[0m\u001b[1;33m=\u001b[0m\u001b[0mnproc\u001b[0m\u001b[1;33m,\u001b[0m\u001b[0mbest_fit\u001b[0m\u001b[1;33m=\u001b[0m\u001b[0mbest_fit\u001b[0m\u001b[1;33m,\u001b[0m\u001b[0msave_star\u001b[0m\u001b[1;33m=\u001b[0m\u001b[0msave_star\u001b[0m\u001b[1;33m,\u001b[0m\u001b[0mstar_vsini\u001b[0m\u001b[1;33m=\u001b[0m\u001b[0mstar_vsini\u001b[0m\u001b[1;33m,\u001b[0m\u001b[0mlocation\u001b[0m\u001b[1;33m=\u001b[0m\u001b[1;34m'full'\u001b[0m\u001b[1;33m,\u001b[0m\u001b[0mabsolute\u001b[0m\u001b[1;33m=\u001b[0m\u001b[0mabsolute\u001b[0m\u001b[1;33m)\u001b[0m\u001b[1;33m\u001b[0m\u001b[0m\n\u001b[0m",
      "\u001b[1;32m/home/toml/vel_star_map/elements_model3d.pyc\u001b[0m in \u001b[0;36millumination_model\u001b[1;34m(x, time, period, planet_K, star_K, midtransit, wvl, line_centers, plotting, nproc, best_fit, save_star, load_star, star_vsini, location, absolute)\u001b[0m\n\u001b[0;32m    221\u001b[0m     \u001b[1;31m#quit()\u001b[0m\u001b[1;33m\u001b[0m\u001b[1;33m\u001b[0m\u001b[0m\n\u001b[0;32m    222\u001b[0m \u001b[1;33m\u001b[0m\u001b[0m\n\u001b[1;32m--> 223\u001b[1;33m     \u001b[0mresults\u001b[0m \u001b[1;33m=\u001b[0m \u001b[0millum_track\u001b[0m\u001b[1;33m(\u001b[0m\u001b[0mdata_x\u001b[0m\u001b[1;33m,\u001b[0m \u001b[0minput\u001b[0m\u001b[1;33m,\u001b[0m \u001b[0mprofile\u001b[0m\u001b[1;33m,\u001b[0m \u001b[0mtime\u001b[0m\u001b[1;33m,\u001b[0m\u001b[0mplanet_absorb\u001b[0m\u001b[1;33m,\u001b[0m\u001b[0mspot_data\u001b[0m\u001b[1;33m=\u001b[0m\u001b[0mFalse\u001b[0m\u001b[1;33m,\u001b[0m \u001b[0mtype_data\u001b[0m\u001b[1;33m=\u001b[0m\u001b[1;34m'FLUX'\u001b[0m\u001b[1;33m,\u001b[0m\u001b[0mplotting\u001b[0m\u001b[1;33m=\u001b[0m\u001b[0mplotting\u001b[0m\u001b[1;33m,\u001b[0m\u001b[0mresult_wvl\u001b[0m\u001b[1;33m=\u001b[0m\u001b[0mwvl\u001b[0m\u001b[1;33m,\u001b[0m\u001b[0mnproc\u001b[0m\u001b[1;33m=\u001b[0m\u001b[0mnproc\u001b[0m\u001b[1;33m,\u001b[0m\u001b[0msave_star\u001b[0m\u001b[1;33m=\u001b[0m\u001b[0msave_star\u001b[0m\u001b[1;33m,\u001b[0m\u001b[0mload_star\u001b[0m\u001b[1;33m=\u001b[0m\u001b[0mload_star\u001b[0m\u001b[1;33m,\u001b[0m\u001b[0mlocation\u001b[0m\u001b[1;33m=\u001b[0m\u001b[0mlocation\u001b[0m\u001b[1;33m,\u001b[0m\u001b[0mabsolute\u001b[0m\u001b[1;33m=\u001b[0m\u001b[0mabsolute\u001b[0m\u001b[1;33m)\u001b[0m\u001b[1;33m\u001b[0m\u001b[0m\n\u001b[0m\u001b[0;32m    224\u001b[0m     \u001b[1;32mreturn\u001b[0m \u001b[0mresults\u001b[0m\u001b[1;33m\u001b[0m\u001b[0m\n\u001b[0;32m    225\u001b[0m \u001b[1;33m\u001b[0m\u001b[0m\n",
      "\u001b[1;32m/home/toml/vel_star_map/elements_vel_prism.py\u001b[0m in \u001b[0;36millum_track\u001b[1;34m(data_x, input, profile, times, planet_absorb, spot_data, type_data, plotting, get_star_profile, load_star, save_star, result_wvl, nproc, location, absolute)\u001b[0m\n\u001b[0;32m    415\u001b[0m   \u001b[1;32mprint\u001b[0m \u001b[1;34m'helloooooo2'\u001b[0m\u001b[1;33m\u001b[0m\u001b[0m\n\u001b[0;32m    416\u001b[0m \u001b[1;33m\u001b[0m\u001b[0m\n\u001b[1;32m--> 417\u001b[1;33m   \u001b[1;32mreturn\u001b[0m \u001b[0moutput\u001b[0m\u001b[1;33m\u001b[0m\u001b[0m\n\u001b[0m\u001b[0;32m    418\u001b[0m \u001b[1;33m\u001b[0m\u001b[0m\n\u001b[0;32m    419\u001b[0m \u001b[1;32mdef\u001b[0m \u001b[0mintegrate_star_profile\u001b[0m\u001b[1;33m(\u001b[0m\u001b[0mscale\u001b[0m\u001b[1;33m,\u001b[0m\u001b[0mgrid\u001b[0m\u001b[1;33m,\u001b[0m\u001b[0mprofile\u001b[0m\u001b[1;33m,\u001b[0m\u001b[0mvel_grid\u001b[0m\u001b[1;33m,\u001b[0m\u001b[0mnproc\u001b[0m\u001b[1;33m=\u001b[0m\u001b[1;36m4\u001b[0m\u001b[1;33m)\u001b[0m\u001b[1;33m:\u001b[0m\u001b[1;33m\u001b[0m\u001b[0m\n",
      "\u001b[1;31mNameError\u001b[0m: global name 'output' is not defined"
     ]
    }
   ],
   "source": [
    "star_vsini=3.1\n",
    "absolute = False\n",
    "new_model_noRM = m3d.illumination_model(x1,time,period,planet_K,star_K,midtransit,wvl,line_centers,plotting,nproc=nproc,best_fit=best_fit,save_star=save_star,star_vsini=star_vsini,location='full',absolute=absolute)"
   ]
  },
  {
   "cell_type": "code",
   "execution_count": null,
   "metadata": {
    "collapsed": true
   },
   "outputs": [],
   "source": []
  }
 ],
 "metadata": {
  "kernelspec": {
   "display_name": "Python 2",
   "language": "python",
   "name": "python2"
  }
 },
 "nbformat": 4,
 "nbformat_minor": 0
}
