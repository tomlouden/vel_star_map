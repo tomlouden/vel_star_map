{
 "cells": [
  {
   "cell_type": "markdown",
   "metadata": {},
   "source": [
    "# Finding new plot"
   ]
  },
  {
   "cell_type": "markdown",
   "metadata": {},
   "source": [
    "We need an additional plot for the paper, since figure one is relegated to the extended data plots. Want to demonstrate the line profiles we get from the model and show how the rotational broadening is an important effect."
   ]
  },
  {
   "cell_type": "markdown",
   "metadata": {},
   "source": [
    "I can recover the line profiles from the 3d model code"
   ]
  },
  {
   "cell_type": "markdown",
   "metadata": {},
   "source": [
    "#Setting up"
   ]
  },
  {
   "cell_type": "code",
   "execution_count": 1,
   "metadata": {
    "collapsed": false
   },
   "outputs": [],
   "source": [
    "%load_ext autoreload\n",
    "%autoreload 1\n",
    "%aimport two_sides_figure\n",
    "%aimport elements_model3d\n",
    "%aimport model3d\n",
    "%matplotlib inline\n",
    "\n",
    "pf = two_sides_figure\n",
    "m3d = elements_model3d\n",
    "old_m3d = model3d\n",
    "\n",
    "\n",
    "import os\n",
    "import pickle\n",
    "import numpy as np\n",
    "import matplotlib.pyplot as plt\n",
    "\n",
    "\n",
    "dir = 'everything/'\n",
    "files = os.listdir(dir)\n",
    "\n",
    "sodium_d = [5889.950,5895.924]\n",
    "\n",
    "time = []\n",
    "wvl = []\n",
    "spectra = []\n",
    "spectra_errors = []\n",
    "spectra2 = []\n",
    "spectra_errors2 = []\n",
    "\n",
    "min_wvl = 5869\n",
    "max_wvl = 5909\n",
    "\n",
    "for f in files:\n",
    "  time += [float(f[:-3])]\n",
    "  data = pickle.load(open(dir+f,'rb'))\n",
    "  index = [(data['wvl'] > min_wvl) & (data['wvl'] < max_wvl)]\n",
    "\n",
    "  wvl += [data['wvl'][index]]\n",
    "  spectra += [data['spec'][index]]\n",
    "  spectra_errors += [data['spec_error'][index]]\n",
    "\n",
    "wvl = wvl[0]\n",
    "time = np.array(time)\n",
    "spectra = np.array(spectra)\n",
    "spectra_errors = np.array(spectra_errors)\n",
    "\n",
    "planet_K = 154\n",
    "sodium_d = [5889.950,5895.924]\n",
    "midtransit = 54341.056842\n",
    "period =  2.21857312\n",
    "planet_K = 154\n",
    "star_K = 0.20196\n",
    "line_centers = sodium_d\n",
    "plotting = False\n",
    "nproc = 16\n",
    "best_fit=False\n",
    "save_star = False\n",
    "\n",
    "i1 = 9\n",
    "i2 = 29\n",
    "\n",
    "\n",
    "spectra = spectra[np.argsort(time)]\n",
    "spectra = spectra[np.arange(i1,i2)]\n",
    "\n",
    "spectra_errors = spectra_errors[np.argsort(time)]\n",
    "spectra_errors = spectra_errors[np.arange(i1,i2)]\n",
    "\n",
    "time = time[np.argsort(time)]\n",
    "time = time[np.arange(i1,i2)]\n",
    "\n",
    "new_errors = np.array([np.std(spectra, axis=0)]*20)\n",
    "\n",
    "spectra_errors = new_errors\n",
    "\n",
    "load = True\n",
    "save = True\n",
    "save_m1 = 'test1.p'\n",
    "save_m2 = 'test2.p'"
   ]
  },
  {
   "cell_type": "markdown",
   "metadata": {},
   "source": [
    "This is the current best fit model for fixed limb darkening"
   ]
  },
  {
   "cell_type": "code",
   "execution_count": null,
   "metadata": {
    "collapsed": true
   },
   "outputs": [],
   "source": [
    "x1 = [0.51374991, 0.18869174, 8.5049162065200008, -0.15442891679199999,  0.23553298503299999, 0.063145416345300007, -3.50757872893e+50, 111.002838225]"
   ]
  },
  {
   "cell_type": "markdown",
   "metadata": {},
   "source": [
    "#First attempt"
   ]
  },
  {
   "cell_type": "markdown",
   "metadata": {},
   "source": [
    "A basic plot of the 6th panel with 3 different settings"
   ]
  },
  {
   "cell_type": "code",
   "execution_count": null,
   "metadata": {
    "collapsed": true
   },
   "outputs": [],
   "source": [
    "star_vsini = 3.1"
   ]
  },
  {
   "cell_type": "code",
   "execution_count": null,
   "metadata": {
    "collapsed": false
   },
   "outputs": [],
   "source": [
    "full_model = old_m3d.model_3d(x1,time,period,planet_K,star_K,midtransit,wvl,line_centers,plotting,nproc=nproc,best_fit=best_fit,save_star=save_star,star_vsini=star_vsini)\n",
    "\n",
    "model_left = m3d.model_3d(x1,time,period,planet_K,star_K,midtransit,wvl,line_centers,plotting,nproc=nproc,best_fit=best_fit,save_star=save_star,star_vsini=star_vsini,location='left')\n",
    "\n",
    "model_right = m3d.model_3d(x1,time,period,planet_K,star_K,midtransit,wvl,line_centers,plotting,nproc=nproc,best_fit=best_fit,save_star=save_star,star_vsini=star_vsini,location='right')"
   ]
  },
  {
   "cell_type": "markdown",
   "metadata": {},
   "source": [
    "Plot 3 versions of the line profile - left limb, right limb and normal\n",
    "\n",
    "These profiles are not normalised"
   ]
  },
  {
   "cell_type": "code",
   "execution_count": null,
   "metadata": {
    "collapsed": false
   },
   "outputs": [],
   "source": [
    "frame_no = 6\n",
    "\n",
    "plt.plot(wvl[(wvl > 5888) & (wvl < 5892)],model_left[frame_no][(wvl > 5888) & (wvl < 5892)],label='left limb')\n",
    "plt.plot(wvl[(wvl > 5888) & (wvl < 5892)],model_right[frame_no][(wvl > 5888) & (wvl < 5892)],label='right limb')\n",
    "plt.plot(wvl[(wvl > 5888) & (wvl < 5892)],full_model[frame_no][(wvl > 5888) & (wvl < 5892)],label='full')\n",
    "plt.legend()\n",
    "plt.show()"
   ]
  },
  {
   "cell_type": "markdown",
   "metadata": {},
   "source": [
    "I think I'm going about this the wrong way... The effects are not going to look as good when combined with the RM effect. It's confusing."
   ]
  },
  {
   "cell_type": "markdown",
   "metadata": {
    "collapsed": false
   },
   "source": [
    "#Without RM effect"
   ]
  },
  {
   "cell_type": "markdown",
   "metadata": {},
   "source": [
    "The star vsini is normally 3.1 km/s, but we've turned it off here so we can remove the RM effect to see the absorption better"
   ]
  },
  {
   "cell_type": "code",
   "execution_count": null,
   "metadata": {
    "collapsed": true
   },
   "outputs": [],
   "source": [
    "star_vsini = 0.0"
   ]
  },
  {
   "cell_type": "code",
   "execution_count": null,
   "metadata": {
    "collapsed": true
   },
   "outputs": [],
   "source": [
    "full_model_noRM = old_m3d.model_3d(x1,time,period,planet_K,star_K,midtransit,wvl,line_centers,plotting,nproc=nproc,best_fit=best_fit,save_star=save_star,star_vsini=star_vsini)\n",
    "\n",
    "model_left_noRM = m3d.model_3d(x1,time,period,planet_K,star_K,midtransit,wvl,line_centers,plotting,nproc=nproc,best_fit=best_fit,save_star=save_star,star_vsini=star_vsini,location='left')\n",
    "\n",
    "model_right_noRM = m3d.model_3d(x1,time,period,planet_K,star_K,midtransit,wvl,line_centers,plotting,nproc=nproc,best_fit=best_fit,save_star=save_star,star_vsini=star_vsini,location='right')"
   ]
  },
  {
   "cell_type": "code",
   "execution_count": null,
   "metadata": {
    "collapsed": false
   },
   "outputs": [],
   "source": [
    "frame_no = 10\n",
    "\n",
    "plt.plot(wvl[(wvl > 5888) & (wvl < 5892)],model_left_noRM[frame_no][(wvl > 5888) & (wvl < 5892)],label='left limb')\n",
    "plt.plot(wvl[(wvl > 5888) & (wvl < 5892)],model_right_noRM[frame_no][(wvl > 5888) & (wvl < 5892)],label='right limb')\n",
    "plt.plot(wvl[(wvl > 5888) & (wvl < 5892)],full_model_noRM[frame_no][(wvl > 5888) & (wvl < 5892)],label='full')\n",
    "plt.legend()\n",
    "plt.show()"
   ]
  },
  {
   "cell_type": "markdown",
   "metadata": {},
   "source": [
    "In this plot the profiles are *not* normalised"
   ]
  },
  {
   "cell_type": "markdown",
   "metadata": {},
   "source": [
    "#Without RM effect, extreme limbs"
   ]
  },
  {
   "cell_type": "markdown",
   "metadata": {},
   "source": [
    "This time I only use the most extreme element on the left and right hand sides"
   ]
  },
  {
   "cell_type": "code",
   "execution_count": null,
   "metadata": {
    "collapsed": true
   },
   "outputs": [],
   "source": [
    "star_vsini = 0.0"
   ]
  },
  {
   "cell_type": "code",
   "execution_count": 3,
   "metadata": {
    "collapsed": false
   },
   "outputs": [
    {
     "ename": "NameError",
     "evalue": "name 'old_m3d' is not defined",
     "output_type": "error",
     "traceback": [
      "\u001b[1;31m---------------------------------------------------------------------------\u001b[0m",
      "\u001b[1;31mNameError\u001b[0m                                 Traceback (most recent call last)",
      "\u001b[1;32m<ipython-input-3-ff986607250c>\u001b[0m in \u001b[0;36m<module>\u001b[1;34m()\u001b[0m\n\u001b[1;32m----> 1\u001b[1;33m \u001b[0mfull_model_noRM_extreme\u001b[0m \u001b[1;33m=\u001b[0m \u001b[0mold_m3d\u001b[0m\u001b[1;33m.\u001b[0m\u001b[0mmodel_3d\u001b[0m\u001b[1;33m(\u001b[0m\u001b[0mx1\u001b[0m\u001b[1;33m,\u001b[0m\u001b[0mtime\u001b[0m\u001b[1;33m,\u001b[0m\u001b[0mperiod\u001b[0m\u001b[1;33m,\u001b[0m\u001b[0mplanet_K\u001b[0m\u001b[1;33m,\u001b[0m\u001b[0mstar_K\u001b[0m\u001b[1;33m,\u001b[0m\u001b[0mmidtransit\u001b[0m\u001b[1;33m,\u001b[0m\u001b[0mwvl\u001b[0m\u001b[1;33m,\u001b[0m\u001b[0mline_centers\u001b[0m\u001b[1;33m,\u001b[0m\u001b[0mplotting\u001b[0m\u001b[1;33m,\u001b[0m\u001b[0mnproc\u001b[0m\u001b[1;33m=\u001b[0m\u001b[0mnproc\u001b[0m\u001b[1;33m,\u001b[0m\u001b[0mbest_fit\u001b[0m\u001b[1;33m=\u001b[0m\u001b[0mbest_fit\u001b[0m\u001b[1;33m,\u001b[0m\u001b[0msave_star\u001b[0m\u001b[1;33m=\u001b[0m\u001b[0msave_star\u001b[0m\u001b[1;33m,\u001b[0m\u001b[0mstar_vsini\u001b[0m\u001b[1;33m=\u001b[0m\u001b[0mstar_vsini\u001b[0m\u001b[1;33m)\u001b[0m\u001b[1;33m\u001b[0m\u001b[0m\n\u001b[0m\u001b[0;32m      2\u001b[0m \u001b[1;33m\u001b[0m\u001b[0m\n\u001b[0;32m      3\u001b[0m \u001b[0mmodel_left_noRM_extreme\u001b[0m \u001b[1;33m=\u001b[0m \u001b[0mm3d\u001b[0m\u001b[1;33m.\u001b[0m\u001b[0mmodel_3d\u001b[0m\u001b[1;33m(\u001b[0m\u001b[0mx1\u001b[0m\u001b[1;33m,\u001b[0m\u001b[0mtime\u001b[0m\u001b[1;33m,\u001b[0m\u001b[0mperiod\u001b[0m\u001b[1;33m,\u001b[0m\u001b[0mplanet_K\u001b[0m\u001b[1;33m,\u001b[0m\u001b[0mstar_K\u001b[0m\u001b[1;33m,\u001b[0m\u001b[0mmidtransit\u001b[0m\u001b[1;33m,\u001b[0m\u001b[0mwvl\u001b[0m\u001b[1;33m,\u001b[0m\u001b[0mline_centers\u001b[0m\u001b[1;33m,\u001b[0m\u001b[0mplotting\u001b[0m\u001b[1;33m,\u001b[0m\u001b[0mnproc\u001b[0m\u001b[1;33m=\u001b[0m\u001b[0mnproc\u001b[0m\u001b[1;33m,\u001b[0m\u001b[0mbest_fit\u001b[0m\u001b[1;33m=\u001b[0m\u001b[0mbest_fit\u001b[0m\u001b[1;33m,\u001b[0m\u001b[0msave_star\u001b[0m\u001b[1;33m=\u001b[0m\u001b[0msave_star\u001b[0m\u001b[1;33m,\u001b[0m\u001b[0mstar_vsini\u001b[0m\u001b[1;33m=\u001b[0m\u001b[0mstar_vsini\u001b[0m\u001b[1;33m,\u001b[0m\u001b[0mlocation\u001b[0m\u001b[1;33m=\u001b[0m\u001b[1;34m'leftest'\u001b[0m\u001b[1;33m)\u001b[0m\u001b[1;33m\u001b[0m\u001b[0m\n\u001b[0;32m      4\u001b[0m \u001b[1;33m\u001b[0m\u001b[0m\n\u001b[0;32m      5\u001b[0m \u001b[0mmodel_right_noRM_extreme\u001b[0m \u001b[1;33m=\u001b[0m \u001b[0mm3d\u001b[0m\u001b[1;33m.\u001b[0m\u001b[0mmodel_3d\u001b[0m\u001b[1;33m(\u001b[0m\u001b[0mx1\u001b[0m\u001b[1;33m,\u001b[0m\u001b[0mtime\u001b[0m\u001b[1;33m,\u001b[0m\u001b[0mperiod\u001b[0m\u001b[1;33m,\u001b[0m\u001b[0mplanet_K\u001b[0m\u001b[1;33m,\u001b[0m\u001b[0mstar_K\u001b[0m\u001b[1;33m,\u001b[0m\u001b[0mmidtransit\u001b[0m\u001b[1;33m,\u001b[0m\u001b[0mwvl\u001b[0m\u001b[1;33m,\u001b[0m\u001b[0mline_centers\u001b[0m\u001b[1;33m,\u001b[0m\u001b[0mplotting\u001b[0m\u001b[1;33m,\u001b[0m\u001b[0mnproc\u001b[0m\u001b[1;33m=\u001b[0m\u001b[0mnproc\u001b[0m\u001b[1;33m,\u001b[0m\u001b[0mbest_fit\u001b[0m\u001b[1;33m=\u001b[0m\u001b[0mbest_fit\u001b[0m\u001b[1;33m,\u001b[0m\u001b[0msave_star\u001b[0m\u001b[1;33m=\u001b[0m\u001b[0msave_star\u001b[0m\u001b[1;33m,\u001b[0m\u001b[0mstar_vsini\u001b[0m\u001b[1;33m=\u001b[0m\u001b[0mstar_vsini\u001b[0m\u001b[1;33m,\u001b[0m\u001b[0mlocation\u001b[0m\u001b[1;33m=\u001b[0m\u001b[1;34m'rightest'\u001b[0m\u001b[1;33m)\u001b[0m\u001b[1;33m\u001b[0m\u001b[0m\n",
      "\u001b[1;31mNameError\u001b[0m: name 'old_m3d' is not defined"
     ]
    }
   ],
   "source": [
    "full_model_noRM_extreme = old_m3d.model_3d(x1,time,period,planet_K,star_K,midtransit,wvl,line_centers,plotting,nproc=nproc,best_fit=best_fit,save_star=save_star,star_vsini=star_vsini)\n",
    "\n",
    "model_left_noRM_extreme = m3d.model_3d(x1,time,period,planet_K,star_K,midtransit,wvl,line_centers,plotting,nproc=nproc,best_fit=best_fit,save_star=save_star,star_vsini=star_vsini,location='leftest')\n",
    "\n",
    "model_right_noRM_extreme = m3d.model_3d(x1,time,period,planet_K,star_K,midtransit,wvl,line_centers,plotting,nproc=nproc,best_fit=best_fit,save_star=save_star,star_vsini=star_vsini,location='rightest')"
   ]
  },
  {
   "cell_type": "code",
   "execution_count": null,
   "metadata": {
    "collapsed": false
   },
   "outputs": [],
   "source": [
    "frame_no = 10\n",
    "\n",
    "plt.plot(wvl[(wvl > 5888) & (wvl < 5892)],model_left_noRM_extreme[frame_no][(wvl > 5888) & (wvl < 5892)],label='left limb')\n",
    "plt.plot(wvl[(wvl > 5888) & (wvl < 5892)],model_right_noRM_extreme[frame_no][(wvl > 5888) & (wvl < 5892)],label='right limb')\n",
    "plt.plot(wvl[(wvl > 5888) & (wvl < 5892)],full_model_noRM_extreme[frame_no][(wvl > 5888) & (wvl < 5892)],label='full')\n",
    "plt.legend()\n",
    "plt.show()"
   ]
  },
  {
   "cell_type": "markdown",
   "metadata": {},
   "source": [
    "In this plot I've made an attempt to normalise by multiplying the small profiles by the total number of slices"
   ]
  },
  {
   "cell_type": "markdown",
   "metadata": {},
   "source": [
    "#Comparing to the overall "
   ]
  },
  {
   "cell_type": "markdown",
   "metadata": {},
   "source": [
    "We're going to go with the version which uses the entire left/right limbs of the planet. This seems the most reasonable one to use, as it looks plausable and doesn't require too much fiddling."
   ]
  },
  {
   "cell_type": "code",
   "execution_count": null,
   "metadata": {
    "collapsed": true
   },
   "outputs": [],
   "source": [
    "star_vsini = 0.0"
   ]
  },
  {
   "cell_type": "code",
   "execution_count": null,
   "metadata": {
    "collapsed": true
   },
   "outputs": [],
   "source": [
    "full_model_noRM = old_m3d.model_3d(x1,time,period,planet_K,star_K,midtransit,wvl,line_centers,plotting,nproc=nproc,best_fit=best_fit,save_star=save_star,star_vsini=star_vsini)\n",
    "\n",
    "model_left_noRM = m3d.model_3d(x1,time,period,planet_K,star_K,midtransit,wvl,line_centers,plotting,nproc=nproc,best_fit=best_fit,save_star=save_star,star_vsini=star_vsini,location='left')\n",
    "\n",
    "model_right_noRM = m3d.model_3d(x1,time,period,planet_K,star_K,midtransit,wvl,line_centers,plotting,nproc=nproc,best_fit=best_fit,save_star=save_star,star_vsini=star_vsini,location='right')"
   ]
  },
  {
   "cell_type": "markdown",
   "metadata": {},
   "source": [
    "Now we have to make the total model fit, for comparison."
   ]
  },
  {
   "cell_type": "code",
   "execution_count": null,
   "metadata": {
    "collapsed": true
   },
   "outputs": [],
   "source": [
    "full_model = old_m3d.model_3d(x1,time,period,planet_K,star_K,midtransit,wvl,line_centers,plotting,nproc=nproc,best_fit=best_fit,save_star=save_star,star_vsini=3.1)"
   ]
  },
  {
   "cell_type": "markdown",
   "metadata": {},
   "source": [
    "and sum it up..."
   ]
  },
  {
   "cell_type": "code",
   "execution_count": null,
   "metadata": {
    "collapsed": true
   },
   "outputs": [],
   "source": [
    "combined_profile = np.mean(full_model,axis=0)"
   ]
  },
  {
   "cell_type": "code",
   "execution_count": null,
   "metadata": {
    "collapsed": false
   },
   "outputs": [],
   "source": [
    "frame_no = 10\n",
    "\n",
    "plt.plot(wvl[(wvl > 5888) & (wvl < 5892)],model_left_noRM[frame_no][(wvl > 5888) & (wvl < 5892)],label='left limb')\n",
    "plt.plot(wvl[(wvl > 5888) & (wvl < 5892)],model_right_noRM[frame_no][(wvl > 5888) & (wvl < 5892)],label='right limb')\n",
    "plt.plot(wvl[(wvl > 5888) & (wvl < 5892)],full_model_noRM[frame_no][(wvl > 5888) & (wvl < 5892)],label='full')\n",
    "\n",
    "plt.plot(wvl[(wvl > 5888) & (wvl < 5892)],full_model_noRM[1][(wvl > 5888) & (wvl < 5892)],label='first')\n",
    "plt.plot(wvl[(wvl > 5888) & (wvl < 5892)],full_model_noRM[18][(wvl > 5888) & (wvl < 5892)],label='last')\n",
    "\n",
    "plt.plot(wvl[(wvl > 5888) & (wvl < 5892)],combined_profile[(wvl > 5888) & (wvl < 5892)],label='combined')\n",
    "\n",
    "plt.legend()\n",
    "plt.show()"
   ]
  },
  {
   "cell_type": "markdown",
   "metadata": {},
   "source": [
    "A hideous mess, hooray! but all of the essential elements are there. We see how the profile changes in depth and position during the transit, and also how the profile splits by hemisphere. All this combines to mean you need a significantly larger planet radius than you would assume just by looking at the core of the line."
   ]
  },
  {
   "cell_type": "markdown",
   "metadata": {
    "collapsed": false
   },
   "source": [
    "#Replotting in velocity space"
   ]
  },
  {
   "cell_type": "markdown",
   "metadata": {
    "collapsed": true
   },
   "source": [
    "change wvl to velocity co-ordinates - makes us visually distinct from the other paper and draws attention to the shifts in velocity\n",
    "\n",
    "$\\frac{\\Delta\\lambda}{\\lambda} = \\frac{v}{c}$"
   ]
  },
  {
   "cell_type": "code",
   "execution_count": null,
   "metadata": {
    "collapsed": false
   },
   "outputs": [],
   "source": [
    "import astropy.constants as const\n",
    "\n",
    "c = const.c.value/1000\n",
    "\n",
    "star_vel = -2.3\n",
    "\n",
    "delta_wvl = wvl"
   ]
  },
  {
   "cell_type": "code",
   "execution_count": null,
   "metadata": {
    "collapsed": false
   },
   "outputs": [],
   "source": [
    "star_sodium1 = sodium_d[0]\n",
    "\n",
    "star_sodium1 += star_vel*sodium_d[0]/c\n",
    "\n",
    "delta_wvl = wvl - star_sodium1\n",
    "\n",
    "v = c*delta_wvl/wvl"
   ]
  },
  {
   "cell_type": "code",
   "execution_count": null,
   "metadata": {
    "collapsed": true
   },
   "outputs": [],
   "source": [
    "master_dat = np.loadtxt('sodium_spectrum.dat')\n",
    "master_wvl = master_dat[:,0]\n",
    "master_flux = master_dat[:,1]\n",
    "\n",
    "master_flux = master_flux/np.median(master_flux)\n",
    "\n",
    "delta_wvlm = master_wvl - star_sodium1\n",
    "\n",
    "vm = c*delta_wvlm/master_wvl"
   ]
  },
  {
   "cell_type": "code",
   "execution_count": 4,
   "metadata": {
    "collapsed": false
   },
   "outputs": [
    {
     "ename": "NameError",
     "evalue": "name 'plt' is not defined",
     "output_type": "error",
     "traceback": [
      "\u001b[1;31m---------------------------------------------------------------------------\u001b[0m",
      "\u001b[1;31mNameError\u001b[0m                                 Traceback (most recent call last)",
      "\u001b[1;32m<ipython-input-4-7386a1bda126>\u001b[0m in \u001b[0;36m<module>\u001b[1;34m()\u001b[0m\n\u001b[0;32m      1\u001b[0m \u001b[0mframe_no\u001b[0m \u001b[1;33m=\u001b[0m \u001b[1;36m0\u001b[0m\u001b[1;33m\u001b[0m\u001b[0m\n\u001b[0;32m      2\u001b[0m \u001b[1;33m\u001b[0m\u001b[0m\n\u001b[1;32m----> 3\u001b[1;33m \u001b[0mplt\u001b[0m\u001b[1;33m.\u001b[0m\u001b[0mplot\u001b[0m\u001b[1;33m(\u001b[0m\u001b[0mv\u001b[0m\u001b[1;33m[\u001b[0m\u001b[1;33m(\u001b[0m\u001b[0mwvl\u001b[0m \u001b[1;33m>\u001b[0m \u001b[1;36m5888\u001b[0m\u001b[1;33m)\u001b[0m \u001b[1;33m&\u001b[0m \u001b[1;33m(\u001b[0m\u001b[0mwvl\u001b[0m \u001b[1;33m<\u001b[0m \u001b[1;36m5892\u001b[0m\u001b[1;33m)\u001b[0m\u001b[1;33m]\u001b[0m\u001b[1;33m,\u001b[0m\u001b[0mmodel_left_noRM\u001b[0m\u001b[1;33m[\u001b[0m\u001b[0mframe_no\u001b[0m\u001b[1;33m]\u001b[0m\u001b[1;33m[\u001b[0m\u001b[1;33m(\u001b[0m\u001b[0mwvl\u001b[0m \u001b[1;33m>\u001b[0m \u001b[1;36m5888\u001b[0m\u001b[1;33m)\u001b[0m \u001b[1;33m&\u001b[0m \u001b[1;33m(\u001b[0m\u001b[0mwvl\u001b[0m \u001b[1;33m<\u001b[0m \u001b[1;36m5892\u001b[0m\u001b[1;33m)\u001b[0m\u001b[1;33m]\u001b[0m\u001b[1;33m,\u001b[0m\u001b[0mlabel\u001b[0m\u001b[1;33m=\u001b[0m\u001b[1;34m'left limb'\u001b[0m\u001b[1;33m)\u001b[0m\u001b[1;33m\u001b[0m\u001b[0m\n\u001b[0m\u001b[0;32m      4\u001b[0m \u001b[0mplt\u001b[0m\u001b[1;33m.\u001b[0m\u001b[0mplot\u001b[0m\u001b[1;33m(\u001b[0m\u001b[0mv\u001b[0m\u001b[1;33m[\u001b[0m\u001b[1;33m(\u001b[0m\u001b[0mwvl\u001b[0m \u001b[1;33m>\u001b[0m \u001b[1;36m5888\u001b[0m\u001b[1;33m)\u001b[0m \u001b[1;33m&\u001b[0m \u001b[1;33m(\u001b[0m\u001b[0mwvl\u001b[0m \u001b[1;33m<\u001b[0m \u001b[1;36m5892\u001b[0m\u001b[1;33m)\u001b[0m\u001b[1;33m]\u001b[0m\u001b[1;33m,\u001b[0m\u001b[0mmodel_right_noRM\u001b[0m\u001b[1;33m[\u001b[0m\u001b[0mframe_no\u001b[0m\u001b[1;33m]\u001b[0m\u001b[1;33m[\u001b[0m\u001b[1;33m(\u001b[0m\u001b[0mwvl\u001b[0m \u001b[1;33m>\u001b[0m \u001b[1;36m5888\u001b[0m\u001b[1;33m)\u001b[0m \u001b[1;33m&\u001b[0m \u001b[1;33m(\u001b[0m\u001b[0mwvl\u001b[0m \u001b[1;33m<\u001b[0m \u001b[1;36m5892\u001b[0m\u001b[1;33m)\u001b[0m\u001b[1;33m]\u001b[0m\u001b[1;33m,\u001b[0m\u001b[0mlabel\u001b[0m\u001b[1;33m=\u001b[0m\u001b[1;34m'right limb'\u001b[0m\u001b[1;33m)\u001b[0m\u001b[1;33m\u001b[0m\u001b[0m\n\u001b[0;32m      5\u001b[0m \u001b[0mplt\u001b[0m\u001b[1;33m.\u001b[0m\u001b[0mplot\u001b[0m\u001b[1;33m(\u001b[0m\u001b[0mv\u001b[0m\u001b[1;33m[\u001b[0m\u001b[1;33m(\u001b[0m\u001b[0mwvl\u001b[0m \u001b[1;33m>\u001b[0m \u001b[1;36m5888\u001b[0m\u001b[1;33m)\u001b[0m \u001b[1;33m&\u001b[0m \u001b[1;33m(\u001b[0m\u001b[0mwvl\u001b[0m \u001b[1;33m<\u001b[0m \u001b[1;36m5892\u001b[0m\u001b[1;33m)\u001b[0m\u001b[1;33m]\u001b[0m\u001b[1;33m,\u001b[0m\u001b[0mfull_model_noRM\u001b[0m\u001b[1;33m[\u001b[0m\u001b[0mframe_no\u001b[0m\u001b[1;33m]\u001b[0m\u001b[1;33m[\u001b[0m\u001b[1;33m(\u001b[0m\u001b[0mwvl\u001b[0m \u001b[1;33m>\u001b[0m \u001b[1;36m5888\u001b[0m\u001b[1;33m)\u001b[0m \u001b[1;33m&\u001b[0m \u001b[1;33m(\u001b[0m\u001b[0mwvl\u001b[0m \u001b[1;33m<\u001b[0m \u001b[1;36m5892\u001b[0m\u001b[1;33m)\u001b[0m\u001b[1;33m]\u001b[0m\u001b[1;33m,\u001b[0m\u001b[0mlabel\u001b[0m\u001b[1;33m=\u001b[0m\u001b[1;34m'full'\u001b[0m\u001b[1;33m)\u001b[0m\u001b[1;33m\u001b[0m\u001b[0m\n",
      "\u001b[1;31mNameError\u001b[0m: name 'plt' is not defined"
     ]
    }
   ],
   "source": [
    "frame_no = 0\n",
    "\n",
    "plt.plot(v[(wvl > 5888) & (wvl < 5892)],model_left_noRM[frame_no][(wvl > 5888) & (wvl < 5892)],label='left limb')\n",
    "plt.plot(v[(wvl > 5888) & (wvl < 5892)],model_right_noRM[frame_no][(wvl > 5888) & (wvl < 5892)],label='right limb')\n",
    "plt.plot(v[(wvl > 5888) & (wvl < 5892)],full_model_noRM[frame_no][(wvl > 5888) & (wvl < 5892)],label='full')\n",
    "\n",
    "plt.plot(v[(wvl > 5888) & (wvl < 5892)],combined_profile[(wvl > 5888) & (wvl < 5892)],label='combined')\n",
    "\n",
    "plt.xlim(-50,50)\n",
    "\n",
    "plt.legend()\n",
    "plt.show()"
   ]
  },
  {
   "cell_type": "code",
   "execution_count": null,
   "metadata": {
    "collapsed": false
   },
   "outputs": [],
   "source": [
    "plt.plot(vm,master_flux)\n",
    "plt.xlim(-50,50)\n",
    "plt.show()"
   ]
  },
  {
   "cell_type": "markdown",
   "metadata": {},
   "source": [
    "Looking good. I think it's time to do the three (6?) panel plot."
   ]
  },
  {
   "cell_type": "markdown",
   "metadata": {},
   "source": [
    "#Does adding the two sides work?"
   ]
  },
  {
   "cell_type": "markdown",
   "metadata": {},
   "source": [
    "It would be useful to know if simply adding the relative transmission spectra from left and right sides is equivilent to modelling the full transit. Intuitively it seems like it should be, and by eye it looks like it might be... but it's worth just checking.\n",
    "\n",
    "Let's take the mid-transit frame as an example."
   ]
  },
  {
   "cell_type": "code",
   "execution_count": null,
   "metadata": {
    "collapsed": false
   },
   "outputs": [],
   "source": [
    "added_both_sides = model_left_noRM[10] + model_right_noRM[10] - 1.0"
   ]
  },
  {
   "cell_type": "code",
   "execution_count": null,
   "metadata": {
    "collapsed": false
   },
   "outputs": [],
   "source": [
    "plt.plot(v[(wvl > 5888) & (wvl < 5892)],full_model_noRM[10][(wvl > 5888) & (wvl < 5892)],'r-',label='full')\n",
    "plt.plot(v[(wvl > 5888) & (wvl < 5892)],added_both_sides[(wvl > 5888) & (wvl < 5892)],'k--',label='added')\n",
    "plt.xlim(-100,100)\n",
    "\n",
    "plt.xlabel('Velocity (km/s)')\n",
    "plt.ylabel('Fractional transit depth')\n",
    "\n",
    "plt.legend()\n",
    "\n",
    "plt.show()"
   ]
  },
  {
   "cell_type": "markdown",
   "metadata": {},
   "source": [
    "Yep, turns out they are indeed identical to just adding. Good to know"
   ]
  },
  {
   "cell_type": "markdown",
   "metadata": {},
   "source": [
    "# Multi-panel plot"
   ]
  },
  {
   "cell_type": "markdown",
   "metadata": {},
   "source": [
    "I think we need at least 4 panels - the star, then three model phases"
   ]
  },
  {
   "cell_type": "code",
   "execution_count": null,
   "metadata": {
    "collapsed": false
   },
   "outputs": [],
   "source": [
    "fig, ax = plt.subplots(5,1,sharex=True)\n",
    "fig.set_size_inches(8, 11.3)\n",
    "\n",
    "ax[0].plot(vm,master_flux)\n",
    "\n",
    "frames = [3,10,16]\n",
    "\n",
    "ax[1].plot(v[(wvl > 5888) & (wvl < 5892)],combined_profile[(wvl > 5888) & (wvl < 5892)],label='combined')\n",
    "\n",
    "for i in range(2,5):\n",
    "    frame_no = frames[i-2]\n",
    "    ax[i].plot(v[(wvl > 5888) & (wvl < 5892)],model_left_noRM[frame_no][(wvl > 5888) & (wvl < 5892)],label='left limb')\n",
    "    ax[i].plot(v[(wvl > 5888) & (wvl < 5892)],model_right_noRM[frame_no][(wvl > 5888) & (wvl < 5892)],label='right limb')\n",
    "    ax[i].plot(v[(wvl > 5888) & (wvl < 5892)],full_model_noRM[frame_no][(wvl > 5888) & (wvl < 5892)],label='full')\n",
    "\n",
    "for i in range(1,5):\n",
    "    ax[i].set_ylim(0.985,1.003)\n",
    "    ax[i].set_yticks([0.988,0.992,0.996,1.000,])\n",
    "    \n",
    "    \n",
    "plt.xlabel('Velocity (km/s)')\n",
    "ax[2].set_ylabel('Fractional transit depth')\n",
    "\n",
    "ax[0].set_ylabel('Normalised flux')\n",
    "\n",
    "plt.xlim(-100,100)\n",
    "\n",
    "plt.savefig('Model_multi_panel.pdf')\n",
    "plt.show()"
   ]
  },
  {
   "cell_type": "code",
   "execution_count": null,
   "metadata": {
    "collapsed": false
   },
   "outputs": [],
   "source": []
  },
  {
   "cell_type": "code",
   "execution_count": 5,
   "metadata": {
    "collapsed": false
   },
   "outputs": [
    {
     "name": "stderr",
     "output_type": "stream",
     "text": [
      "WARNING: You appear to be trying to import astropy from within a source checkout without building the extension modules first.  Attempting to (re)build extension modules: [astropy]\n",
      "WARNING:astropy:You appear to be trying to import astropy from within a source checkout without building the extension modules first.  Attempting to (re)build extension modules:\n"
     ]
    },
    {
     "name": "stdout",
     "output_type": "stream",
     "text": [
      "Rebuilding extension modules [Done]\n"
     ]
    },
    {
     "name": "stderr",
     "output_type": "stream",
     "text": [
      "ERROR: An error occurred while attempting to rebuild the extension modules.  Please try manually running `./setup.py develop` or `./setup.py build_ext --inplace` to see what the issue was.  Extension modules must be successfully compiled and importable in order to import astropy. [astropy]\n",
      "ERROR:astropy:An error occurred while attempting to rebuild the extension modules.  Please try manually running `./setup.py develop` or `./setup.py build_ext --inplace` to see what the issue was.  Extension modules must be successfully compiled and importable in order to import astropy.\n"
     ]
    },
    {
     "ename": "ImportError",
     "evalue": "astropy",
     "output_type": "error",
     "traceback": [
      "\u001b[1;31m---------------------------------------------------------------------------\u001b[0m",
      "\u001b[1;31mImportError\u001b[0m                               Traceback (most recent call last)",
      "\u001b[1;32m/home/astro/phrmat/Python/astropy/astropy/__init__.py\u001b[0m in \u001b[0;36m_initialize_astropy\u001b[1;34m()\u001b[0m\n\u001b[0;32m    237\u001b[0m     \u001b[1;32mtry\u001b[0m\u001b[1;33m:\u001b[0m\u001b[1;33m\u001b[0m\u001b[0m\n\u001b[1;32m--> 238\u001b[1;33m         \u001b[1;32mfrom\u001b[0m \u001b[1;33m.\u001b[0m\u001b[0mutils\u001b[0m \u001b[1;32mimport\u001b[0m \u001b[0m_compiler\u001b[0m\u001b[1;33m\u001b[0m\u001b[0m\n\u001b[0m\u001b[0;32m    239\u001b[0m     \u001b[1;32mexcept\u001b[0m \u001b[0mImportError\u001b[0m\u001b[1;33m:\u001b[0m\u001b[1;33m\u001b[0m\u001b[0m\n",
      "\u001b[1;31mImportError\u001b[0m: dynamic module does not define init function (PyInit__compiler)",
      "\nDuring handling of the above exception, another exception occurred:\n",
      "\u001b[1;31mOSError\u001b[0m                                   Traceback (most recent call last)",
      "\u001b[1;32m/home/astro/phrmat/Python/astropy/astropy/__init__.py\u001b[0m in \u001b[0;36m_initialize_astropy\u001b[1;34m()\u001b[0m\n\u001b[0;32m    246\u001b[0m             \u001b[1;32mtry\u001b[0m\u001b[1;33m:\u001b[0m\u001b[1;33m\u001b[0m\u001b[0m\n\u001b[1;32m--> 247\u001b[1;33m                 \u001b[0m_rebuild_extensions\u001b[0m\u001b[1;33m(\u001b[0m\u001b[1;33m)\u001b[0m\u001b[1;33m\u001b[0m\u001b[0m\n\u001b[0m\u001b[0;32m    248\u001b[0m             \u001b[1;32mexcept\u001b[0m\u001b[1;33m:\u001b[0m\u001b[1;33m\u001b[0m\u001b[0m\n",
      "\u001b[1;32m/home/astro/phrmat/Python/astropy/astropy/__init__.py\u001b[0m in \u001b[0;36m_rebuild_extensions\u001b[1;34m()\u001b[0m\n\u001b[0;32m    297\u001b[0m                       'manually to check what the error was.'.format(\n\u001b[1;32m--> 298\u001b[1;33m                           sp.returncode))\n\u001b[0m\u001b[0;32m    299\u001b[0m \u001b[1;31m# Set the bibtex entry to the article referenced in CITATION\u001b[0m\u001b[1;33m\u001b[0m\u001b[1;33m\u001b[0m\u001b[0m\n",
      "\u001b[1;31mOSError\u001b[0m: Running setup.py build_ext --inplace failed with error code 1: try rerunning this command manually to check what the error was.",
      "\nDuring handling of the above exception, another exception occurred:\n",
      "\u001b[1;31mImportError\u001b[0m                               Traceback (most recent call last)",
      "\u001b[1;32m<ipython-input-5-d192094ef7da>\u001b[0m in \u001b[0;36m<module>\u001b[1;34m()\u001b[0m\n\u001b[1;32m----> 1\u001b[1;33m \u001b[1;32mimport\u001b[0m \u001b[0mastropy\u001b[0m\u001b[1;33m\u001b[0m\u001b[0m\n\u001b[0m",
      "\u001b[1;32m/home/astro/phrmat/Python/astropy/astropy/__init__.py\u001b[0m in \u001b[0;36m<module>\u001b[1;34m()\u001b[0m\n\u001b[0;32m    323\u001b[0m     \u001b[0mlog\u001b[0m \u001b[1;33m=\u001b[0m \u001b[0m_init_log\u001b[0m\u001b[1;33m(\u001b[0m\u001b[1;33m)\u001b[0m\u001b[1;33m\u001b[0m\u001b[0m\n\u001b[0;32m    324\u001b[0m \u001b[1;33m\u001b[0m\u001b[0m\n\u001b[1;32m--> 325\u001b[1;33m     \u001b[0m_initialize_astropy\u001b[0m\u001b[1;33m(\u001b[0m\u001b[1;33m)\u001b[0m\u001b[1;33m\u001b[0m\u001b[0m\n\u001b[0m\u001b[0;32m    326\u001b[0m \u001b[1;33m\u001b[0m\u001b[0m\n\u001b[0;32m    327\u001b[0m     \u001b[1;32mfrom\u001b[0m \u001b[1;33m.\u001b[0m\u001b[0mutils\u001b[0m\u001b[1;33m.\u001b[0m\u001b[0mmisc\u001b[0m \u001b[1;32mimport\u001b[0m \u001b[0mfind_api_page\u001b[0m\u001b[1;33m\u001b[0m\u001b[0m\n",
      "\u001b[1;32m/home/astro/phrmat/Python/astropy/astropy/__init__.py\u001b[0m in \u001b[0;36m_initialize_astropy\u001b[1;34m()\u001b[0m\n\u001b[0;32m    248\u001b[0m             \u001b[1;32mexcept\u001b[0m\u001b[1;33m:\u001b[0m\u001b[1;33m\u001b[0m\u001b[0m\n\u001b[0;32m    249\u001b[0m                 _rollback_import(\n\u001b[1;32m--> 250\u001b[1;33m                     \u001b[1;34m'An error occurred while attempting to rebuild the '\u001b[0m\u001b[1;33m\u001b[0m\u001b[0m\n\u001b[0m\u001b[0;32m    251\u001b[0m                     \u001b[1;34m'extension modules.  Please try manually running '\u001b[0m\u001b[1;33m\u001b[0m\u001b[0m\n\u001b[0;32m    252\u001b[0m                     \u001b[1;34m'`./setup.py develop` or `./setup.py build_ext '\u001b[0m\u001b[1;33m\u001b[0m\u001b[0m\n",
      "\u001b[1;32m/home/astro/phrmat/Python/astropy/astropy/__init__.py\u001b[0m in \u001b[0;36m_rollback_import\u001b[1;34m(message)\u001b[0m\n\u001b[0;32m    233\u001b[0m             \u001b[1;32mif\u001b[0m \u001b[0mkey\u001b[0m\u001b[1;33m.\u001b[0m\u001b[0mstartswith\u001b[0m\u001b[1;33m(\u001b[0m\u001b[1;34m'astropy.'\u001b[0m\u001b[1;33m)\u001b[0m\u001b[1;33m:\u001b[0m\u001b[1;33m\u001b[0m\u001b[0m\n\u001b[0;32m    234\u001b[0m                 \u001b[1;32mdel\u001b[0m \u001b[0msys\u001b[0m\u001b[1;33m.\u001b[0m\u001b[0mmodules\u001b[0m\u001b[1;33m[\u001b[0m\u001b[0mkey\u001b[0m\u001b[1;33m]\u001b[0m\u001b[1;33m\u001b[0m\u001b[0m\n\u001b[1;32m--> 235\u001b[1;33m         \u001b[1;32mraise\u001b[0m \u001b[0mImportError\u001b[0m\u001b[1;33m(\u001b[0m\u001b[1;34m'astropy'\u001b[0m\u001b[1;33m)\u001b[0m\u001b[1;33m\u001b[0m\u001b[0m\n\u001b[0m\u001b[0;32m    236\u001b[0m \u001b[1;33m\u001b[0m\u001b[0m\n\u001b[0;32m    237\u001b[0m     \u001b[1;32mtry\u001b[0m\u001b[1;33m:\u001b[0m\u001b[1;33m\u001b[0m\u001b[0m\n",
      "\u001b[1;31mImportError\u001b[0m: astropy"
     ]
    }
   ],
   "source": [
    "import astropy"
   ]
  },
  {
   "cell_type": "code",
   "execution_count": null,
   "metadata": {
    "collapsed": false
   },
   "outputs": [],
   "source": [
    "from astropy import constants"
   ]
  },
  {
   "cell_type": "code",
   "execution_count": null,
   "metadata": {
    "collapsed": false
   },
   "outputs": [],
   "source": [
    "constants.c"
   ]
  },
  {
   "cell_type": "code",
   "execution_count": null,
   "metadata": {
    "collapsed": true
   },
   "outputs": [],
   "source": []
  }
 ],
 "metadata": {
  "kernelspec": {
   "display_name": "Python 2",
   "language": "python",
   "name": "python2"
  },
  "language_info": {
   "codemirror_mode": {
    "name": "ipython",
    "version": 2
   },
   "file_extension": ".py",
   "mimetype": "text/x-python",
   "name": "python",
   "nbconvert_exporter": "python",
   "pygments_lexer": "ipython2",
   "version": "2.7.10"
  }
 },
 "nbformat": 4,
 "nbformat_minor": 0
}
