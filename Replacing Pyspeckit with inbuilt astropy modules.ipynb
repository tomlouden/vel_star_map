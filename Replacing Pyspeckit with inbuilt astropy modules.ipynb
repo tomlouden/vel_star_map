{
 "cells": [
  {
   "cell_type": "markdown",
   "metadata": {},
   "source": [
    "I'm sick of using pyspeckit, it doesnt seem particularly well written, and it's unnecesarily complicated, and it doesn't seem to play well with my python3 install\n",
    "\n",
    "can I replace it with astropy functions?"
   ]
  },
  {
   "cell_type": "code",
   "execution_count": 3,
   "metadata": {
    "collapsed": false
   },
   "outputs": [],
   "source": [
    "from pyspeckit.spectrum.models.inherited_voigtfitter import voigt\n",
    "import numpy as np\n",
    "master_dat = np.loadtxt('sodium_spectrum.dat')\n",
    "wvl = master_dat[:,0]\n",
    "wvl = np.array(wvl)\n",
    "x = [10, 5888, 10, 1]\n",
    "amp = x[0]\n",
    "line_cen = x[1]\n",
    "fwhm = 0.4*abs(x[2])\n",
    "ratio = abs(x[3])\n",
    "\n",
    "Lfwhm = fwhm / (0.5346 + (0.2166 + (ratio**-2))**0.5)\n",
    "Gfwhm = fwhm / (0.5346*ratio + (0.2166*ratio**2.0 + 1)**0.5)\n",
    "line = voigt(wvl,amp,line_cen,Gfwhm,Lfwhm,normalized=False)\n",
    "\n",
    "ps_line = amp*line/max(line)\n",
    "import numpy as np\n",
    "from astropy.modeling.models import Voigt1D\n",
    "%matplotlib inline\n",
    "import matplotlib.pyplot as plt\n",
    "\n",
    "\n",
    "plt.figure()\n",
    "v1 = Voigt1D(x_0=x[1], amplitude_L=amp, fwhm_L=Lfwhm, fwhm_G=Gfwhm)\n",
    "ap_line =  v1(wvl)\n",
    "\n",
    "ap_line = amp*ap_line/max(ap_line)\n",
    "\n",
    "plt.plot(wvl,ps_line,'g')\n",
    "plt.plot(wvl,ap_line,'b')\n",
    "plt.show()"
   ]
  },
  {
   "cell_type": "code",
   "execution_count": 10,
   "metadata": {
    "collapsed": false
   },
   "outputs": [
    {
     "name": "stdout",
     "output_type": "stream",
     "text": [
      "5888.0 5887.65\n"
     ]
    }
   ],
   "source": [
    "print wvl[np.argmax(ps_line)], wvl[np.argmax(ap_line)]"
   ]
  },
  {
   "cell_type": "markdown",
   "metadata": {},
   "source": [
    "the astropy implementation is wrong"
   ]
  },
  {
   "cell_type": "code",
   "execution_count": 11,
   "metadata": {
    "collapsed": false
   },
   "outputs": [
    {
     "name": "stdout",
     "output_type": "stream",
     "text": [
      "5888.0 5888.0\n"
     ]
    }
   ],
   "source": [
    "print wvl[np.argmax(ps_line)], wvl[np.argmax(ap_line)+35]"
   ]
  },
  {
   "cell_type": "markdown",
   "metadata": {},
   "source": [
    "out by 35 !"
   ]
  },
  {
   "cell_type": "markdown",
   "metadata": {
    "collapsed": true
   },
   "source": [
    "#They modified astropy!"
   ]
  },
  {
   "cell_type": "code",
   "execution_count": 1,
   "metadata": {
    "collapsed": false
   },
   "outputs": [],
   "source": [
    "import astropy\n",
    "from pyspeckit.spectrum.models.inherited_voigtfitter import voigt\n",
    "import numpy as np"
   ]
  },
  {
   "cell_type": "code",
   "execution_count": 2,
   "metadata": {
    "collapsed": false
   },
   "outputs": [
    {
     "data": {
      "image/png": "[encoded data removed]",
      "text/plain": [
       "<matplotlib.figure.Figure at 0x7f4ff044f050>"
      ]
     },
     "metadata": {},
     "output_type": "display_data"
    }
   ],
   "source": [
    "master_dat = np.loadtxt('sodium_spectrum.dat')\n",
    "wvl = master_dat[:,0]\n",
    "wvl = np.array(wvl)\n",
    "x = [10, 5888, 10, 1]\n",
    "amp = x[0]\n",
    "line_cen = x[1]\n",
    "fwhm = 0.4*abs(x[2])\n",
    "ratio = abs(x[3])\n",
    "\n",
    "Lfwhm = fwhm / (0.5346 + (0.2166 + (ratio**-2))**0.5)\n",
    "Gfwhm = fwhm / (0.5346*ratio + (0.2166*ratio**2.0 + 1)**0.5)\n",
    "line = voigt(wvl,amp,line_cen,Gfwhm,Lfwhm,normalized=False)\n",
    "\n",
    "ps_line = amp*line/max(line)\n",
    "import numpy as np\n",
    "from astropy.modeling.models import Voigt1D\n",
    "%matplotlib inline\n",
    "import matplotlib.pyplot as plt\n",
    "\n",
    "\n",
    "plt.figure()\n",
    "v1 = Voigt1D(x_0=x[1], amplitude_L=amp, fwhm_L=Lfwhm, fwhm_G=Gfwhm)\n",
    "ap_line =  v1(wvl)\n",
    "\n",
    "ap_line = amp*ap_line/max(ap_line)\n",
    "\n",
    "plt.plot(wvl,ps_line,'g')\n",
    "plt.plot(wvl,ap_line,'b')\n",
    "plt.show()"
   ]
  },
  {
   "cell_type": "markdown",
   "metadata": {
    "collapsed": true
   },
   "source": [
    "This does seem to have done the trick - however the difference with the voigt model I use is still there."
   ]
  },
  {
   "cell_type": "code",
   "execution_count": 3,
   "metadata": {
    "collapsed": false
   },
   "outputs": [
    {
     "data": {
      "image/png": "[encoded data removed]",
      "text/plain": [
       "<matplotlib.figure.Figure at 0x7f4ff0435ad0>"
      ]
     },
     "metadata": {},
     "output_type": "display_data"
    }
   ],
   "source": [
    "import numpy as np\n",
    "from astropy.modeling.models import Voigt1D\n",
    "%matplotlib inline\n",
    "import matplotlib.pyplot as plt\n",
    "\n",
    "plt.figure()\n",
    "x = np.arange(0, 10, 0.01)\n",
    "v1 = Voigt1D(x_0=5, amplitude_L=10, fwhm_L=0.5, fwhm_G=0.9)\n",
    "plt.plot(x, v1(x))\n",
    "plt.axvline(v1.x_0, color='k',ls='--')\n",
    "plt.show()"
   ]
  },
  {
   "cell_type": "code",
   "execution_count": 9,
   "metadata": {
    "collapsed": false
   },
   "outputs": [
    {
     "ename": "ImportError",
     "evalue": "No module named convolve._lineshape",
     "output_type": "error",
     "traceback": [
      "\u001b[1;31m---------------------------------------------------------------------------\u001b[0m",
      "\u001b[1;31mImportError\u001b[0m                               Traceback (most recent call last)",
      "\u001b[1;32m<ipython-input-9-0295cc9ce0b2>\u001b[0m in \u001b[0;36m<module>\u001b[1;34m()\u001b[0m\n\u001b[0;32m      3\u001b[0m \u001b[1;32mimport\u001b[0m \u001b[0mnumpy\u001b[0m \u001b[1;32mas\u001b[0m \u001b[0mnp\u001b[0m\u001b[1;33m\u001b[0m\u001b[0m\n\u001b[0;32m      4\u001b[0m \u001b[1;33m\u001b[0m\u001b[0m\n\u001b[1;32m----> 5\u001b[1;33m \u001b[1;32mfrom\u001b[0m \u001b[0mstsci\u001b[0m\u001b[1;33m.\u001b[0m\u001b[0mconvolve\u001b[0m\u001b[1;33m.\u001b[0m\u001b[0m_lineshape\u001b[0m \u001b[1;32mimport\u001b[0m \u001b[0mvoigt\u001b[0m\u001b[1;33m\u001b[0m\u001b[0m\n\u001b[0m\u001b[0;32m      6\u001b[0m \u001b[1;32mfrom\u001b[0m \u001b[0mastropy\u001b[0m\u001b[1;33m.\u001b[0m\u001b[0mmodeling\u001b[0m\u001b[1;33m.\u001b[0m\u001b[0mmodels\u001b[0m \u001b[1;32mimport\u001b[0m \u001b[0mVoigt1D\u001b[0m\u001b[1;33m\u001b[0m\u001b[0m\n\u001b[0;32m      7\u001b[0m \u001b[1;33m\u001b[0m\u001b[0m\n",
      "\u001b[1;31mImportError\u001b[0m: No module named convolve._lineshape"
     ]
    }
   ],
   "source": [
    "%matplotlib inline\n",
    "import matplotlib.pyplot as plt\n",
    "import numpy as np\n",
    "\n",
    "from stsci.convolve._lineshape import voigt\n",
    "from astropy.modeling.models import Voigt1D\n",
    "\n",
    "x = np.arange(0,10, 0.01)\n",
    "v1 = Voigt1D(x_0=5, amplitude_L=10, fwhm_L=0.5, fwhm_G=0.9)\n",
    "v2 = 10 * voigt(x, (0.9,0.5), xc=5)\n",
    "\n",
    "plt.figure()\n",
    "plt.plot(x, v1(x))\n",
    "plt.plot(x, v2)\n",
    "plt.axvline(v1.x_0, color='k', ls='--')\n",
    "plt.show()"
   ]
  },
  {
   "cell_type": "code",
   "execution_count": null,
   "metadata": {
    "collapsed": true
   },
   "outputs": [],
   "source": []
  },
  {
   "cell_type": "code",
   "execution_count": 8,
   "metadata": {
    "collapsed": false
   },
   "outputs": [
    {
     "name": "stdout",
     "output_type": "stream",
     "text": [
      "Help on package stsci:\n",
      "\n",
      "NAME\n",
      "    stsci\n",
      "\n",
      "FILE\n",
      "    /home/astro/phrmat/anaconda/lib/python2.7/site-packages/stsci.distutils-0.3.7-py2.7.egg/stsci/__init__.py\n",
      "\n",
      "PACKAGE CONTENTS\n",
      "    distutils (package)\n",
      "\n",
      "\n"
     ]
    }
   ],
   "source": [
    "help(stsci)"
   ]
  },
  {
   "cell_type": "code",
   "execution_count": null,
   "metadata": {
    "collapsed": true
   },
   "outputs": [],
   "source": []
  }
 ],
 "metadata": {
  "kernelspec": {
   "display_name": "Python 2",
   "language": "python",
   "name": "python2"
  },
  "language_info": {
   "codemirror_mode": {
    "name": "ipython",
    "version": 2
   },
   "file_extension": ".py",
   "mimetype": "text/x-python",
   "name": "python",
   "nbconvert_exporter": "python",
   "pygments_lexer": "ipython2",
   "version": "2.7.10"
  }
 },
 "nbformat": 4,
 "nbformat_minor": 0
}
