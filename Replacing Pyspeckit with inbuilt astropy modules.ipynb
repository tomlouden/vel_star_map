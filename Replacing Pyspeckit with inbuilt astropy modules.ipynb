{
 "cells": [
  {
   "cell_type": "markdown",
   "metadata": {},
   "source": [
    "I'm sick of using pyspeckit, it doesnt seem particularly well written, and it's unnecesarily complicated, and it doesn't seem to play well with my python3 install\n",
    "\n",
    "can I replace it with astropy functions?"
   ]
  },
  {
   "cell_type": "code",
   "execution_count": 3,
   "metadata": {
    "collapsed": false
   },
   "outputs": [],
   "source": [
    "from pyspeckit.spectrum.models.inherited_voigtfitter import voigt\n",
    "import numpy as np"
   ]
  },
  {
   "cell_type": "code",
   "execution_count": 4,
   "metadata": {
    "collapsed": false
   },
   "outputs": [],
   "source": [
    "master_dat = np.loadtxt('sodium_spectrum.dat')\n",
    "wvl = master_dat[:,0]\n",
    "wvl = np.array(wvl)"
   ]
  },
  {
   "cell_type": "code",
   "execution_count": 5,
   "metadata": {
    "collapsed": true
   },
   "outputs": [],
   "source": [
    "x = [10, 5888, 10, 1]"
   ]
  },
  {
   "cell_type": "code",
   "execution_count": 6,
   "metadata": {
    "collapsed": true
   },
   "outputs": [],
   "source": [
    "amp = x[0]\n",
    "line_cen = x[1]\n",
    "fwhm = 0.4*abs(x[2])\n",
    "ratio = abs(x[3])\n",
    "\n",
    "Lfwhm = fwhm / (0.5346 + (0.2166 + (ratio**-2))**0.5)\n",
    "Gfwhm = fwhm / (0.5346*ratio + (0.2166*ratio**2.0 + 1)**0.5)"
   ]
  },
  {
   "cell_type": "code",
   "execution_count": 7,
   "metadata": {
    "collapsed": false
   },
   "outputs": [],
   "source": [
    "line = voigt(wvl,amp,line_cen,Gfwhm,Lfwhm,normalized=False)\n",
    "\n",
    "ps_line = amp*line/max(line)"
   ]
  },
  {
   "cell_type": "code",
   "execution_count": 8,
   "metadata": {
    "collapsed": false
   },
   "outputs": [
    {
     "data": {
      "text/plain": [
       "<matplotlib.figure.Figure at 0x7f521d8e4950>"
      ]
     },
     "metadata": {},
     "output_type": "display_data"
    }
   ],
   "source": [
    "import numpy as np\n",
    "from astropy.modeling.models import Voigt1D\n",
    "%matplotlib inline\n",
    "import matplotlib.pyplot as plt\n",
    "\n",
    "\n",
    "plt.figure()\n",
    "v1 = Voigt1D(x_0=x[1], amplitude_L=amp, fwhm_L=Lfwhm, fwhm_G=Gfwhm)\n",
    "ap_line =  v1(wvl)\n",
    "\n",
    "ap_line = amp*ap_line/max(ap_line)\n"
   ]
  },
  {
   "cell_type": "code",
   "execution_count": 9,
   "metadata": {
    "collapsed": false
   },
   "outputs": [
    {
     "data": {
      "image/png": "[encoded data removed]",
      "text/plain": [
       "<matplotlib.figure.Figure at 0x7f521d9d6450>"
      ]
     },
     "metadata": {},
     "output_type": "display_data"
    }
   ],
   "source": [
    "plt.plot(wvl,ps_line,'g')\n",
    "plt.plot(wvl,ap_line,'b')\n",
    "plt.show()"
   ]
  },
  {
   "cell_type": "code",
   "execution_count": 10,
   "metadata": {
    "collapsed": false
   },
   "outputs": [
    {
     "name": "stdout",
     "output_type": "stream",
     "text": [
      "5888.0 5887.65\n"
     ]
    }
   ],
   "source": [
    "print wvl[np.argmax(ps_line)], wvl[np.argmax(ap_line)]"
   ]
  },
  {
   "cell_type": "markdown",
   "metadata": {},
   "source": [
    "the astropy implementation is wrong"
   ]
  },
  {
   "cell_type": "code",
   "execution_count": 11,
   "metadata": {
    "collapsed": false
   },
   "outputs": [
    {
     "name": "stdout",
     "output_type": "stream",
     "text": [
      "5888.0 5888.0\n"
     ]
    }
   ],
   "source": [
    "print wvl[np.argmax(ps_line)], wvl[np.argmax(ap_line)+35]"
   ]
  },
  {
   "cell_type": "markdown",
   "metadata": {},
   "source": [
    "out by 35 !"
   ]
  },
  {
   "cell_type": "code",
   "execution_count": null,
   "metadata": {
    "collapsed": true
   },
   "outputs": [],
   "source": []
  }
 ],
 "metadata": {
  "kernelspec": {
   "display_name": "Python 2",
   "language": "python",
   "name": "python2"
  },
  "language_info": {
   "codemirror_mode": {
    "name": "ipython",
    "version": 2
   },
   "file_extension": ".py",
   "mimetype": "text/x-python",
   "name": "python",
   "nbconvert_exporter": "python",
   "pygments_lexer": "ipython2",
   "version": "2.7.10"
  }
 },
 "nbformat": 4,
 "nbformat_minor": 0
}
